{
 "cells": [
  {
   "cell_type": "markdown",
   "metadata": {},
   "source": [
    "# BST234 Final Project"
   ]
  },
  {
   "cell_type": "code",
   "execution_count": 22,
   "metadata": {
    "collapsed": true
   },
   "outputs": [],
   "source": [
    "import numpy as np\n",
    "import time\n",
    "import fbpca \n",
    "import scipy as sp\n",
    "import scipy.linalg\n",
    "from scipy import sparse\n",
    "import scipy.sparse.linalg\n",
    "import random\n",
    "import matplotlib.pyplot as plt\n",
    "import warnings"
   ]
  },
  {
   "cell_type": "code",
   "execution_count": 4,
   "metadata": {
    "collapsed": true
   },
   "outputs": [],
   "source": [
    "def prep_data():\n",
    "    x = np.loadtxt(\"simulated_genos\", delimiter=\" \", dtype=\"float32\")\n",
    "    y = np.array([[1] * 10000 + [0] * 10000], dtype=\"float32\")\n",
    "    y_c = y - 0.5\n",
    "    return x, y, y_c\n",
    "\n",
    "x, y, y_c = prep_data()"
   ]
  },
  {
   "cell_type": "code",
   "execution_count": 5,
   "metadata": {
    "scrolled": false
   },
   "outputs": [
    {
     "name": "stdout",
     "output_type": "stream",
     "text": [
      "X shape: (20000, 50)\n",
      "Rank of X: 50\n",
      "Number of 1: 953.0\n"
     ]
    }
   ],
   "source": [
    "n = 20000\n",
    "X = x[:,:]\n",
    "print(\"X shape:\", X.shape)\n",
    "print(\"Rank of X:\", np.linalg.matrix_rank(X))\n",
    "print (\"Number of 1:\",np.sum(x))\n",
    "n = X.shape[0]\n",
    "p = X.shape[1]"
   ]
  },
  {
   "cell_type": "markdown",
   "metadata": {},
   "source": [
    "Convert X to CSR format"
   ]
  },
  {
   "cell_type": "code",
   "execution_count": 6,
   "metadata": {
    "collapsed": true
   },
   "outputs": [],
   "source": [
    "X_sparse = sp.sparse.csr_matrix(X)"
   ]
  },
  {
   "cell_type": "markdown",
   "metadata": {},
   "source": [
    "# Eigenvalue Computation"
   ]
  },
  {
   "cell_type": "markdown",
   "metadata": {},
   "source": [
    "This standard implementation of scipy.sparse.eigvals is a wrapper of the software [**ARPACK**](http://www.caam.rice.edu/software/ARPACK/\n",
    ").\n",
    "The method is Implicitly Restarted Arnoldi Methods. See detail of this in [ARPACK User Guide](http://li.mit.edu/Archive/Activities/Archive/CourseWork/Ju_Li/MITCourses/18.335/Doc/ARPACK/Lehoucq97.pdf)."
   ]
  },
  {
   "cell_type": "markdown",
   "metadata": {},
   "source": [
    "Calculate $XX^T$"
   ]
  },
  {
   "cell_type": "code",
   "execution_count": 7,
   "metadata": {
    "collapsed": true
   },
   "outputs": [],
   "source": [
    "XX_t = X  @ X.T\n",
    "#np.linalg.matrix_rank(XX_t)"
   ]
  },
  {
   "cell_type": "code",
   "execution_count": 8,
   "metadata": {},
   "outputs": [
    {
     "name": "stdout",
     "output_type": "stream",
     "text": [
      "(20000, 20000)\n",
      "[[0. 0. 0. ... 0. 0. 0.]\n",
      " [0. 0. 0. ... 0. 0. 0.]\n",
      " [0. 0. 0. ... 0. 0. 0.]\n",
      " ...\n",
      " [0. 0. 0. ... 0. 0. 0.]\n",
      " [0. 0. 0. ... 0. 0. 0.]\n",
      " [0. 0. 0. ... 0. 0. 0.]]\n",
      "Sum of XX^T 23633.0\n"
     ]
    }
   ],
   "source": [
    "type(XX_t)\n",
    "print(XX_t.shape)\n",
    "print(XX_t)\n",
    "print(\"Sum of XX^T\", np.sum(XX_t))"
   ]
  },
  {
   "cell_type": "markdown",
   "metadata": {},
   "source": [
    "Use sp.sparse.linalg.eigs to calculate eigenvalue"
   ]
  },
  {
   "cell_type": "code",
   "execution_count": 17,
   "metadata": {
    "scrolled": true
   },
   "outputs": [
    {
     "name": "stdout",
     "output_type": "stream",
     "text": [
      "Sparse Eigenvalue Computation Time:\n",
      "Wall time: 329 ms\n"
     ]
    }
   ],
   "source": [
    "%%time\n",
    "XX_t_sparse = X_sparse @ X_sparse.T\n",
    "ev_sparse = sparse.linalg.eigs(XX_t_sparse, k=50)\n",
    "print(\"Sparse Eigenvalue Computation Time:\")"
   ]
  },
  {
   "cell_type": "markdown",
   "metadata": {},
   "source": [
    "See the calculation result."
   ]
  },
  {
   "cell_type": "code",
   "execution_count": 11,
   "metadata": {
    "scrolled": true
   },
   "outputs": [
    {
     "name": "stdout",
     "output_type": "stream",
     "text": [
      "[40.000046, 38.083164, 37.10237, 37.066376, 37.00003, 33.047565, 31.164595, 29.129011, 29.071096, 29.039923, 29.000004, 28.000025, 27.657082, 26.039421, 25.528225, 25.03124, 25.000023, 24.000048, 23.999977, 22.000013, 21.933672, 21.000053, 20.6858, 20.000004, 20.000004, 19.80418, 17.827843, 16.947348, 16.0, 15.999998, 14.928926, 12.999996, 12.000003, 11.952488, 11.000006, 10.999992, 10.000006, 10.000001, 10.0, 8.999991, 8.000004, 7.0000024, 7.0, 6.9999948, 6.0000076, 5.000003, 4.0000076, 3.9999995, 3.9600668, 1.0000091]\n"
     ]
    }
   ],
   "source": [
    "ev_sparse = np.real(ev_sparse[0])\n",
    "print(sorted(ev_sparse, reverse=True))"
   ]
  },
  {
   "cell_type": "code",
   "execution_count": 25,
   "metadata": {
    "scrolled": true
   },
   "outputs": [
    {
     "data": {
      "text/plain": [
       "238.2501277923584"
      ]
     },
     "execution_count": 25,
     "metadata": {},
     "output_type": "execute_result"
    }
   ],
   "source": [
    "sum(ev_sparse / 4)"
   ]
  },
  {
   "cell_type": "markdown",
   "metadata": {},
   "source": [
    "# Singular Value Decomposition (SVD)\n",
    "Computing the Singular Value Decomposition (SVD) is a fundamental linear algebra primitive, ubiquitous in machine learning, statistics, signal processing, and other fields. Formally, the SVD of a real m × n matrix A is a factorization of the form A = U Σ Vᵀ, where U is an m × m orthogonal matrix of left singular vectors, Σ is an m × n diagonal matrix of singular values, and Vᵀ is an n × n orthogonal matrix of right singular vectors.\n",
    "\n",
    "The SVD provides a roadmap to computing a low-rank approximation for A– that is, finding a matrix Aᵣ with rank r < m, n such that ||Aᵣ – A|| is minimized. Given A = U Σ Vᵀ, we can approximate A by the following procedure:\n",
    "\n",
    "Sort the nonzero elements of Σ in decreasing order;\n",
    "Take the first r elements of Σ (say Σᵣ, an r × r diagonal matrix), the corresponding columns of U (Uᵣ, an m × r orthogonal matrix) and the corresponding columns of V (Vᵣ, an n × r orthogonal matrix);\n",
    "Take Aᵣ = Uᵣ Σᵣ Vᵣᵀ."
   ]
  },
  {
   "cell_type": "markdown",
   "metadata": {},
   "source": [
    "Use sp.linalg.svdvals to calculate singular value"
   ]
  },
  {
   "cell_type": "code",
   "execution_count": 28,
   "metadata": {},
   "outputs": [
    {
     "name": "stdout",
     "output_type": "stream",
     "text": [
      "np SVD time 0.022891927132604906\n",
      "X SV: [6.324555  6.171154  6.091167  6.0882163 6.0827622 5.7486973 5.5825267\n",
      " 5.3971276 5.3917594 5.388871  5.385164  5.2915025 5.258997  5.102881\n",
      " 5.052542  5.0031204 4.9999995 4.898985  4.8989787 4.6904163 4.683336\n",
      " 4.582577  4.5481615 4.472136  4.472136  4.4501877 4.2222996 4.116715\n",
      " 4.0000014 4.        3.863798  3.6055512 3.4641018 3.4572375 3.3166246\n",
      " 3.316624  3.1622791 3.162278  3.1622767 3.0000017 2.8284268 2.6457512\n",
      " 2.6457512 2.6457512 2.4494898 2.2360685 2.        2.        1.9899907\n",
      " 1.       ] 50\n"
     ]
    }
   ],
   "source": [
    "start_time = time.clock()\n",
    "np_SVD_result = sp.linalg.svdvals(X[:n,:])\n",
    "end_time = time.clock()\n",
    "print(\"np SVD time\", end_time - start_time)\n",
    "print(\"X SV:\", np_SVD_result, len(np_SVD_result))"
   ]
  },
  {
   "cell_type": "markdown",
   "metadata": {},
   "source": [
    "## irlbpy (SVD)"
   ]
  },
  {
   "cell_type": "markdown",
   "metadata": {},
   "source": [
    "This implementation is modified from module **irlbpy**. See link below."
   ]
  },
  {
   "cell_type": "markdown",
   "metadata": {},
   "source": [
    "[IRLB method](https://epubs.siam.org/doi/abs/10.1137/04060593X)"
   ]
  },
  {
   "cell_type": "code",
   "execution_count": 12,
   "metadata": {
    "collapsed": true
   },
   "outputs": [],
   "source": [
    "def mult(A,x,t=False):\n",
    "  if(sparse.issparse(A)):\n",
    "    m = A.shape[0]\n",
    "    n = A.shape[1]\n",
    "    if(t):\n",
    "      return(sparse.csr_matrix(x).dot(A).transpose().todense().A[:,0])\n",
    "    return(A.dot(sparse.csr_matrix(x).transpose()).todense().A[:,0])\n",
    "  if(t):\n",
    "    return(x.dot(A))\n",
    "  return(A.dot(x))\n",
    "\n",
    "def orthog(Y,X):\n",
    "  dotY = mult(X,Y,t=True)\n",
    "  return (Y - mult(X,dotY))\n",
    "\n",
    "\n",
    "def invcheck(x):\n",
    "  eps2  = 2*np.finfo(np.float).eps\n",
    "  if(x>eps2):\n",
    "    x = 1/x\n",
    "  else:\n",
    "    x = 0\n",
    "  return(x)\n",
    "\n",
    "def irlb(A,n,tol=0.0001,maxit=50):\n",
    "  nu     = n\n",
    "  m      = A.shape[0]\n",
    "  n      = A.shape[1]\n",
    "  m_b    = min((nu+20, 3*nu, n))\n",
    "  mprod  = 0\n",
    "  it     = 0\n",
    "  j      = 0\n",
    "  k      = nu\n",
    "  smax   = 1\n",
    "  ifsparse = sparse.issparse(A)\n",
    "\n",
    "  V  = np.zeros((n,m_b))\n",
    "  W  = np.zeros((m,m_b))\n",
    "  F  = np.zeros((n,1))\n",
    "  B  = np.zeros((m_b,m_b))\n",
    "\n",
    "  V[:,0]  = np.random.randn(n)\n",
    "  V[:,0]  = V[:,0]/np.linalg.norm(V)\n",
    "\n",
    "  while(it < maxit):\n",
    "    if(it>0): j=k\n",
    "    W[:,j] = mult(A,V[:,j])\n",
    "    mprod+=1\n",
    "    if(it>0):\n",
    "      W[:,j] = orthog(W[:,j],W[:,0:j]) # NB W[:,0:j] selects columns 0,1,...,j-1\n",
    "    s = np.linalg.norm(W[:,j])\n",
    "    sinv = invcheck(s)\n",
    "    W[:,j] = sinv*W[:,j]\n",
    "    while(j<m_b):\n",
    "      F = mult(A,W[:,j],t=True)\n",
    "      mprod+=1\n",
    "      F = F - s*V[:,j]\n",
    "      F = orthog(F,V[:,0:j+1])\n",
    "      fn = np.linalg.norm(F)\n",
    "      fninv= invcheck(fn)\n",
    "      F  = fninv * F\n",
    "      if(j<m_b-1):\n",
    "        V[:,j+1] = F\n",
    "        B[j,j] = s\n",
    "        B[j,j+1] = fn \n",
    "        W[:,j+1] = mult(A,V[:,j+1])\n",
    "        mprod+=1\n",
    "        W[:,j+1] = W[:,j+1] - fn*W[:,j]\n",
    "        W[:,j+1] = orthog(W[:,j+1],W[:,0:(j+1)])\n",
    "        s = np.linalg.norm(W[:,j+1])\n",
    "        sinv = invcheck(s) \n",
    "        W[:,j+1] = sinv * W[:,j+1]\n",
    "      else:\n",
    "        B[j,j] = s\n",
    "      j+=1\n",
    "    S    = np.linalg.svd(B)\n",
    "    R    = fn * S[0][m_b-1,:] \n",
    "    if(it<1):\n",
    "      smax = S[1][0]\n",
    "    else:\n",
    "      smax = max((S[1][0],smax))\n",
    "\n",
    "    conv = sum(np.abs(R[0:nu]) < tol*smax)\n",
    "    if(conv < nu):\n",
    "      k = max(conv+nu,k)\n",
    "      k = min(k,m_b-3)\n",
    "    else:\n",
    "      break\n",
    "    V[:,0:k] = V[:,0:m_b].dot(S[2].transpose()[:,0:k])\n",
    "    V[:,k] = F \n",
    "    B = np.zeros((m_b,m_b))\n",
    "    for l in range(0,k):\n",
    "      B[l,l] = S[1][l]\n",
    "    B[0:k,k] = R[0:k]\n",
    "    W[:,0:k] = W[:,0:m_b].dot(S[0][:,0:k])\n",
    "    it+=1\n",
    "\n",
    "  U = W[:,0:m_b].dot(S[0][:,0:nu])\n",
    "  V = V[:,0:m_b].dot(S[2].transpose()[:,0:nu])\n",
    "  return((U,S[1][0:nu],V,it,mprod))"
   ]
  },
  {
   "cell_type": "markdown",
   "metadata": {},
   "source": [
    "Check the result of **irlbpy**"
   ]
  },
  {
   "cell_type": "code",
   "execution_count": 32,
   "metadata": {
    "scrolled": true
   },
   "outputs": [
    {
     "name": "stdout",
     "output_type": "stream",
     "text": [
      "Time of irlbpy:\n",
      "Wall time: 1.17 s\n"
     ]
    }
   ],
   "source": [
    "%%time\n",
    "result_irlb = irlb(X, 50)\n",
    "print(\"Time of irlbpy:\")"
   ]
  },
  {
   "cell_type": "code",
   "execution_count": 33,
   "metadata": {
    "scrolled": true
   },
   "outputs": [
    {
     "data": {
      "text/plain": [
       "array([6.32455532, 6.17115224, 6.09116741, 6.08821591, 6.08276253,\n",
       "       5.74869651, 5.58252703, 5.39712732, 5.39175925, 5.38887151,\n",
       "       5.38516481, 5.29150262, 5.2589973 , 5.1028813 , 5.05254332,\n",
       "       5.00312107, 5.        , 4.89897949, 4.89897949, 4.69041576,\n",
       "       4.68333503, 4.58257569, 4.54816118, 4.47213595, 4.47213595,\n",
       "       4.45018781, 4.22230026, 4.11671501, 4.        , 4.        ,\n",
       "       3.86379764, 3.60555128, 3.46410162, 3.45723711, 3.31662479,\n",
       "       3.31662479, 3.16227766, 3.16227766, 3.16227766, 3.        ,\n",
       "       2.82842712, 2.64575131, 2.64575131, 2.64575131, 2.44948974,\n",
       "       2.23606798, 2.        , 2.        , 1.9899909 , 1.        ])"
      ]
     },
     "execution_count": 33,
     "metadata": {},
     "output_type": "execute_result"
    }
   ],
   "source": [
    "result_irlb[1]"
   ]
  },
  {
   "cell_type": "markdown",
   "metadata": {},
   "source": [
    "The result is quite fine, although it is still time consuming. In order to speed up, try the method **RSVD**."
   ]
  },
  {
   "cell_type": "markdown",
   "metadata": {},
   "source": [
    "## Randomized Matrix Approximation\n",
    "\n",
    "here, we’ll focus on some modern randomized matrix approximation techniques, developed in (amongst others) in Finding structure with randomness: Probabilistic algorithms for constructing approximate matrix decompositions, a 2009 paper by Nathan Halko, Per-Gunnar Martinsson and Joel A. Tropp. \n",
    "https://arxiv.org/abs/0909.4061\n",
    "\n",
    "## 1. FBPCA package for randomized SVD\n",
    "This package is developed by facebook research.\n",
    "Relavant links:\n",
    "http://fbpca.readthedocs.io/en/latest/\n"
   ]
  },
  {
   "cell_type": "code",
   "execution_count": 24,
   "metadata": {
    "scrolled": true
   },
   "outputs": [
    {
     "name": "stdout",
     "output_type": "stream",
     "text": [
      "FBPCA Computation Time:\n",
      "Wall time: 38.1 ms\n",
      "[40.00001   38.083153  37.10235   37.066402  37.000008  33.04754\n",
      " 31.164598  29.128998  29.071054  29.039928  28.999985  28.000004\n",
      " 27.65704   26.039398  25.528193  25.031229  25.000006  24.000053\n",
      " 23.999983  22.00001   21.933638  21.000013  20.685785  20.000006\n",
      " 20.000006  19.804184  17.827847  16.947346  16.        15.999994\n",
      " 14.928925  13.000002  11.999993  11.9524975 11.000004  10.999996\n",
      " 10.000007  10.000003  10.         9.000003   7.9999986  7.000001\n",
      "  7.000001   6.9999995  6.000003   5.         4.         4.\n",
      "  3.960063   1.       ]\n"
     ]
    }
   ],
   "source": [
    "print(\"FBPCA Computation Time:\")\n",
    "%time sig_rsvd_fbpca = fbpca.pca(x,50,True)[1]\n",
    "eig_rsvd_fbpca = sig_rsvd_fbpca ** 2\n",
    "print(eig_rsvd_fbpca)"
   ]
  },
  {
   "cell_type": "markdown",
   "metadata": {},
   "source": [
    "## Randomized SVD\n",
    "Here is our own implementation of randomized SVD. After reduce the dimention, we use np.linalg.svd (the svd function in numpy) to conduct svd on a smaller scale matrix"
   ]
  },
  {
   "cell_type": "code",
   "execution_count": 21,
   "metadata": {},
   "outputs": [
    {
     "name": "stdout",
     "output_type": "stream",
     "text": [
      "RSVD Computation Time:\n",
      "Wall time: 139 ms\n",
      "[40.         38.08311991 37.10232046 37.06637298 37.         33.04751155\n",
      " 31.16460799 29.12898331 29.07106781 29.0399362  29.         28.\n",
      " 27.65705259 26.03939761 25.52819398 25.03122049 25.         24.\n",
      " 24.         22.         21.93362702 21.         20.68577012 20.\n",
      " 20.         19.80417152 17.82781952 16.9473425  16.         16.\n",
      " 14.92893219 13.         12.         11.95248845 11.         11.\n",
      " 10.         10.         10.          9.          8.          7.\n",
      "  7.          7.          6.          5.          4.          4.\n",
      "  3.9600638   1.        ]\n"
     ]
    }
   ],
   "source": [
    "#randomized SVD\n",
    "def randomized_svd(M, k=10):\n",
    "    m, n = M.shape\n",
    "    transpose = False\n",
    "    if m < n:\n",
    "        transpose = True\n",
    "        M = M.T\n",
    "        \n",
    "    rand_matrix = np.random.normal(size=(M.shape[1], k))  # short side by k\n",
    "    Q, _ = np.linalg.qr(M @ rand_matrix, mode='reduced')  # long side by k\n",
    "    smaller_matrix = Q.T @ M                              # k by short side\n",
    "    U_hat, s, V = np.linalg.svd(smaller_matrix, full_matrices=False)\n",
    "    U = Q @ U_hat\n",
    "    \n",
    "    if transpose:\n",
    "        return V.T, s.T, U.T\n",
    "    else:\n",
    "        return U, s, V\n",
    "print(\"RSVD Computation Time:\")    \n",
    "%time sig_rsvd = randomized_svd(x,50)[1]\n",
    "eig_rsvd = sig_rsvd ** 2\n",
    "print(eig_rsvd)"
   ]
  },
  {
   "cell_type": "markdown",
   "metadata": {},
   "source": [
    "# Comparsion of different methods\n",
    "Here, we compare the randomized SVD methods (approximate methods) to the exact methods (scipy's), in terms of computing time and accuracy."
   ]
  },
  {
   "cell_type": "markdown",
   "metadata": {},
   "source": [
    "compare approximate methods to exact method's eigenvalue"
   ]
  },
  {
   "cell_type": "code",
   "execution_count": 39,
   "metadata": {
    "collapsed": true
   },
   "outputs": [],
   "source": [
    "# compare approximate methods to exact method's eigen\n",
    "eig_rsvd = list(eig_rsvd)\n",
    "eig_exact = eig_exact_sorted = np_SVD_result ** 2\n",
    "def err_cal(l):\n",
    "    total_error = 0\n",
    "    for i in range(len(eig_rsvd)):\n",
    "        error = abs(eig_rsvd[i]-eig_exact_sorted[i])\n",
    "        total_error += error\n",
    "    mean_error = total_error/len(eig_rsvd)\n",
    "    return (total_error, mean_error)"
   ]
  },
  {
   "cell_type": "code",
   "execution_count": 35,
   "metadata": {},
   "outputs": [
    {
     "data": {
      "text/plain": [
       "(0.00025952831847830815, 5.190566369566163e-06)"
      ]
     },
     "execution_count": 35,
     "metadata": {},
     "output_type": "execute_result"
    }
   ],
   "source": [
    "err_cal(eig_rsvd)"
   ]
  },
  {
   "cell_type": "code",
   "execution_count": 36,
   "metadata": {},
   "outputs": [
    {
     "data": {
      "text/plain": [
       "(0.00025952831847830815, 5.190566369566163e-06)"
      ]
     },
     "execution_count": 36,
     "metadata": {},
     "output_type": "execute_result"
    }
   ],
   "source": [
    "err_cal(list(result_irlb[1] ** 2))"
   ]
  },
  {
   "cell_type": "markdown",
   "metadata": {},
   "source": [
    "#### Compute P-value, by Monte Carlo simulation, the distribution of Q"
   ]
  },
  {
   "cell_type": "code",
   "execution_count": 56,
   "metadata": {
    "scrolled": true
   },
   "outputs": [
    {
     "name": "stdout",
     "output_type": "stream",
     "text": [
      "The p-value is: 0.782043\n"
     ]
    },
    {
     "data": {
      "image/png": "[encoded data removed]",
      "text/plain": [
       "<matplotlib.figure.Figure at 0x2c8e2939eb8>"
      ]
     },
     "metadata": {},
     "output_type": "display_data"
    }
   ],
   "source": [
    "%matplotlib inline\n",
    "\n",
    "\n",
    "def generate_Q(eig, N = 1000000):\n",
    "    Q_distribution = []\n",
    "    for i in range(N):\n",
    "        #generate 50 chi-square r.v\n",
    "        sample = np.random.chisquare(1, size=50)\n",
    "        Q_stat = np.sum(eig * sample)/4\n",
    "        Q_distribution.append(Q_stat)\n",
    "    return Q_distribution\n",
    "  \n",
    "Q_distribution = generate_Q(eig = eig_rsvd)\n",
    "#print (Q_distribution)\n",
    "plt.hist(Q_distribution, bins = 30)\n",
    "q = 223.25\n",
    "def inverse_percentile(arr, num):\n",
    "    arr = sorted(arr)\n",
    "    i_arr = [i for i, x in enumerate(arr) if x > num]\n",
    "    return i_arr[0] / len(arr) if len(i_arr) > 0 else 1\n",
    "\n",
    "\n",
    "def p_cal(q):\n",
    "    q = 223.25\n",
    "    abs_Q_distribution = abs(Q_distribution - np.average(Q_distribution))\n",
    "    q_abs = abs(q-np.average(Q_distribution))\n",
    "    p = 1- inverse_percentile(abs_Q_distribution, q_abs)\n",
    "    return p\n",
    "\n",
    "\n",
    "\n",
    "print (\"The p-value is:\", p_cal(q))"
   ]
  },
  {
   "cell_type": "code",
   "execution_count": 53,
   "metadata": {},
   "outputs": [
    {
     "data": {
      "text/plain": [
       "238.25000000000017"
      ]
     },
     "execution_count": 53,
     "metadata": {},
     "output_type": "execute_result"
    }
   ],
   "source": [
    "sum(eig_rsvd) / 4"
   ]
  },
  {
   "cell_type": "markdown",
   "metadata": {},
   "source": [
    "### benchmark, comparsion of computing time\n",
    "Here are our steps to compute the computing time, with different size of K*K matrix:\n",
    "1. generate 50 random eigen value according to N(real eigen value,0.1), accordingly.\n",
    "2. generate a random K*50, orthogonal matrix X, K >50, using the scipy function, scipy.linalg.orth\n",
    "3. compute $X \\Lambda  X^{T}$ , where $ \\Lambda  $ is the 50*50 diagonal matrix with 50 eigenvalues, accordingly.\n",
    "4. using  eigen methods on $X \\Lambda  X^{T}$, and the computing time, with average of 1000 times of computing for each K"
   ]
  },
  {
   "cell_type": "code",
   "execution_count": 44,
   "metadata": {},
   "outputs": [
    {
     "name": "stdout",
     "output_type": "stream",
     "text": [
      "[39.999996  38.08314   37.102314  37.06638   36.999996  33.04752\n",
      " 31.164604  29.128986  29.07107   29.039932  28.999989  27.999998\n",
      " 27.65705   26.039394  25.528183  25.031214  24.999996  24.000053\n",
      " 23.999992  22.000006  21.933634  21.000013  20.685774  20.\n",
      " 20.        19.80417   17.827814  16.947342  16.000011  16.\n",
      " 14.928934  13.        12.000001  11.952491  10.999999  10.999994\n",
      " 10.00001   10.000002   9.999994   9.0000105  7.9999986  6.9999995\n",
      "  6.9999995  6.9999995  6.0000005  5.0000024  4.         4.\n",
      "  3.960063   1.       ]\n",
      "[40.029465640185556, 38.19806113389817, 37.00834899817658, 37.1353937571005, 36.77327588384245, 32.94758212131358, 31.367384298945225, 29.075385632093887, 28.900816611831765, 29.15910661260106, 29.066421787548705, 28.167834968695214, 27.66862776067179, 26.06055743141596, 25.57330077161648, 24.995846977218182, 24.8202624390388, 24.056472305019376, 24.03920850411316, 22.026103805716573, 21.935623338198457, 21.127844482256673, 20.655710932127466, 19.866093253498846, 19.820485337032604, 19.7846460607595, 17.68470204912397, 16.963424129200146, 16.120008233464077, 16.022453040505297, 14.866070503064076, 13.07756621043223, 12.255970240480892, 11.79842435415123, 11.186620633357059, 10.965535527362976, 10.044587258300282, 9.898279297911294, 10.08720536995696, 8.983903447360374, 8.00040483278401, 6.899237050100364, 7.2189338636313485, 6.946279137774288, 6.015959325104318, 4.936943915226649, 3.8756395416374896, 4.134439212572847, 3.9155965427774313, 0.8855885542884645]\n",
      "[[-0.0935913   0.14610678  0.04122469 ...  0.07438423 -0.12503773\n",
      "  -0.18272991]\n",
      " [-0.11378665  0.11528353 -0.14762036 ...  0.09545606 -0.09877982\n",
      "  -0.14757947]\n",
      " [-0.11670722  0.01436327 -0.01795062 ... -0.02564381 -0.17079318\n",
      "  -0.0508568 ]\n",
      " ...\n",
      " [-0.10656255  0.10819257 -0.14206833 ...  0.00829899 -0.00021762\n",
      "   0.08065894]\n",
      " [-0.09677891  0.09843674  0.06422092 ... -0.00929199 -0.18479525\n",
      "   0.08716012]\n",
      " [-0.11161142  0.02865385 -0.09262231 ...  0.03176354 -0.01197226\n",
      "   0.01487238]]\n",
      "[[10.2071255   0.11548683 -0.34289401 ...  1.47913805  1.43390902\n",
      "   1.77613351]\n",
      " [ 0.11548683 11.9195767   1.90455981 ...  0.82438022 -0.07661206\n",
      "   0.37135718]\n",
      " [-0.34289401  1.90455981 10.3129315  ... -0.88359046 -1.88602579\n",
      "  -0.80333324]\n",
      " ...\n",
      " [ 1.47913805  0.82438022 -0.88359046 ...  8.29623695  2.23962198\n",
      "   0.94747896]\n",
      " [ 1.43390902 -0.07661206 -1.88602579 ...  2.23962198  9.45210934\n",
      "  -1.15718552]\n",
      " [ 1.77613351  0.37135718 -0.80333324 ...  0.94747896 -1.15718552\n",
      "   8.02460006]]\n",
      "[ 0.88558855  3.87563954  3.91559654  4.13443921  4.93694392  6.01595933\n",
      "  6.89923705  6.94627914  7.21893386  8.00040483  8.98390345  9.8982793\n",
      " 10.04458726 10.08720537 10.96553553 11.18662063 11.79842435 12.25597024\n",
      " 13.07756621 14.8660705  16.02245304 16.12000823 16.96342413 17.68470205\n",
      " 19.78464606 19.82048534 19.86609325 20.65571093 21.12784448 21.93562334\n",
      " 22.02610381 24.0392085  24.05647231 24.82026244 24.99584698 25.57330077\n",
      " 26.06055743 27.66862776 28.16783497 28.90081661 29.06642179 29.07538563\n",
      " 29.15910661 31.3673843  32.94758212 36.77327588 37.008349   37.13539376\n",
      " 38.19806113 40.02946564]\n",
      "0.04535548129661038\n"
     ]
    }
   ],
   "source": [
    "#generate 50 random eigen value according to N(real eigen value,0.1)\n",
    "\n",
    "print (eig_exact)\n",
    "random_eigen = [0]*50\n",
    "for i in range(50):\n",
    "    random_eigen[i]= float(np.random.normal(eig_exact[i], 0.1, 1))\n",
    "print (random_eigen)\n",
    "\n",
    "#generate K*50, orthogonal matrix, K >50\n",
    "import scipy\n",
    "K = 100\n",
    "a = np.random.random(size=(K, 50))\n",
    "q = scipy.linalg.orth(a)\n",
    "print (q)\n",
    "I = np.identity(50)\n",
    "E = I*random_eigen\n",
    "M = q @ E @ q.T\n",
    "print (M)\n",
    "import time\n",
    "\n",
    "X_sparse = sparse.csr_matrix(q)\n",
    "X_T_sparse = sparse.csr_matrix.transpose(X_sparse)\n",
    "XX = X_sparse@E@X_T_sparse\n",
    "start_time = time.clock()\n",
    "eig_2 = scipy.sparse.linalg.eigsh(XX,k=50)\n",
    "end_time = time.clock()\n",
    "eig_2 = eig_2[0]\n",
    "print (eig_2)\n",
    "print (end_time - start_time)"
   ]
  },
  {
   "cell_type": "markdown",
   "metadata": {},
   "source": [
    "Here are the functions to test average running time for computing eigenvalues for different methods"
   ]
  },
  {
   "cell_type": "code",
   "execution_count": 45,
   "metadata": {
    "collapsed": true
   },
   "outputs": [],
   "source": [
    "# function to test average running time for computing eigen\n",
    "#function 1, testing the computing time of scipy function\n",
    "def test_eigen_1(K):\n",
    "    random_eigen = [0]*50\n",
    "    for i in range(50):\n",
    "        random_eigen[i]= float(np.random.normal(eig_exact[i], 0.1, 1))\n",
    "    a = np.random.random(size=(K, 50))\n",
    "    q = scipy.linalg.orth(a)\n",
    "    I = np.identity(50)\n",
    "    E = I*random_eigen\n",
    "    M = q @ E @ q.T\n",
    "    X_sparse = sparse.csr_matrix(q)\n",
    "    X_T_sparse = sparse.csr_matrix.transpose(X_sparse)\n",
    "    XX = X_sparse@E@X_T_sparse\n",
    "    time_list = []\n",
    "    for j in range(100):\n",
    "        start_time = time.clock()\n",
    "        eig_2 = lg.eigsh(XX,k=50)\n",
    "        end_time = time.clock()\n",
    "        time_list.append(end_time-start_time)\n",
    "    average_time = sum(time_list)/1000\n",
    "    eig_2 = eig_2[0]\n",
    "    return (average_time, eig_2)"
   ]
  },
  {
   "cell_type": "code",
   "execution_count": 46,
   "metadata": {},
   "outputs": [
    {
     "data": {
      "image/png": "[encoded data removed]",
      "text/plain": [
       "<matplotlib.figure.Figure at 0x2c8e5236e10>"
      ]
     },
     "metadata": {},
     "output_type": "display_data"
    }
   ],
   "source": [
    "#function 2, testing the computing time of randomized SVD function\n",
    "def test_rsvd_1(K):\n",
    "    random_eigen = [0]*50\n",
    "    for i in range(50):\n",
    "        random_eigen[i]= float(np.random.normal(eig_exact[i], 0.1, 1))\n",
    "    a = np.random.random(size=(K, 50))\n",
    "    q = scipy.linalg.orth(a)\n",
    "    I = np.identity(50)\n",
    "    E = I*np.sqrt(random_eigen)\n",
    "    X_sparse = sparse.csr_matrix(q)   \n",
    "    XX = X_sparse@E\n",
    "    time_list = []\n",
    "    for j in range(100):\n",
    "        start_time = time.clock()\n",
    "        eig_2 = randomized_svd(XX,50)\n",
    "        end_time = time.clock()\n",
    "        time_list.append(end_time-start_time)\n",
    "    average_time = sum(time_list)/1000\n",
    "    eig_2 = eig_2[0]\n",
    "    return (average_time, eig_2)\n",
    "\n",
    "\n",
    "#print (test_eigen_1(1000))\n",
    "#compute list of runing time vs. K\n",
    "k_list = range(100,1000,5)\n",
    "time_list = [test_rsvd_1(k)[0] for k in k_list]\n",
    "#print (time_list)\n",
    "import matplotlib.pyplot as plt\n",
    "plt.plot(k_list, time_list, 'ro')\n",
    "plt.show()"
   ]
  }
 ],
 "metadata": {
  "kernelspec": {
   "display_name": "Python 3",
   "language": "python",
   "name": "python3"
  },
  "language_info": {
   "codemirror_mode": {
    "name": "ipython",
    "version": 3
   },
   "file_extension": ".py",
   "mimetype": "text/x-python",
   "name": "python",
   "nbconvert_exporter": "python",
   "pygments_lexer": "ipython3",
   "version": "3.6.1"
  }
 },
 "nbformat": 4,
 "nbformat_minor": 2
}
