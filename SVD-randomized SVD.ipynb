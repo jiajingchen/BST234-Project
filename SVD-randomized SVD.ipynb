{
 "cells": [
  {
   "cell_type": "code",
   "execution_count": 18,
   "metadata": {},
   "outputs": [
    {
     "name": "stdout",
     "output_type": "stream",
     "text": [
      "(20000, 50)\n"
     ]
    }
   ],
   "source": [
    "import numpy as np\n",
    "import scipy\n",
    "import scipy.linalg\n",
    "import fbpca \n",
    "import random\n",
    "import time\n",
    "\n",
    "def prep_data():\n",
    "    x = np.loadtxt(\"simulated_genos\", delimiter=\" \", dtype=\"float32\")\n",
    "    y = np.array([[1] * 10000 + [0] * 10000], dtype=\"float32\")\n",
    "    y_c = y - 0.5\n",
    "    return x, y_c\n",
    "\n",
    "x, y_c = prep_data()\n",
    "print (x.shape)\n"
   ]
  },
  {
   "cell_type": "markdown",
   "metadata": {},
   "source": [
    "# Singular Value Decomposition (SVD)\n",
    "Computing the Singular Value Decomposition (SVD) is a fundamental linear algebra primitive, ubiquitous in machine learning, statistics, signal processing, and other fields. Formally, the SVD of a real m × n matrix A is a factorization of the form A = U Σ Vᵀ, where U is an m × m orthogonal matrix of left singular vectors, Σ is an m × n diagonal matrix of singular values, and Vᵀ is an n × n orthogonal matrix of right singular vectors.\n",
    "\n",
    "The SVD provides a roadmap to computing a low-rank approximation for A– that is, finding a matrix Aᵣ with rank r < m, n such that ||Aᵣ – A|| is minimized. Given A = U Σ Vᵀ, we can approximate A by the following procedure:\n",
    "\n",
    "Sort the nonzero elements of Σ in decreasing order;\n",
    "Take the first r elements of Σ (say Σᵣ, an r × r diagonal matrix), the corresponding columns of U (Uᵣ, an m × r orthogonal matrix) and the corresponding columns of V (Vᵣ, an n × r orthogonal matrix);\n",
    "Take Aᵣ = Uᵣ Σᵣ Vᵣᵀ."
   ]
  },
  {
   "cell_type": "markdown",
   "metadata": {},
   "source": [
    "# Randomized Matrix Approximation\n",
    "\n",
    "here, we’ll focus on some modern randomized matrix approximation techniques, developed in (amongst others) in Finding structure with randomness: Probabilistic algorithms for constructing approximate matrix decompositions, a 2009 paper by Nathan Halko, Per-Gunnar Martinsson and Joel A. Tropp. \n",
    "https://arxiv.org/abs/0909.4061\n",
    "\n",
    "## 1. FBPCA package for randomized SVD\n",
    "This package is developed by facebook research.\n",
    "Relavant links:\n",
    "http://fbpca.readthedocs.io/en/latest/\n",
    "\n"
   ]
  },
  {
   "cell_type": "code",
   "execution_count": 6,
   "metadata": {},
   "outputs": [
    {
     "name": "stdout",
     "output_type": "stream",
     "text": [
      "CPU times: user 62.1 ms, sys: 17.2 ms, total: 79.3 ms\n",
      "Wall time: 102 ms\n",
      "[ 40.00001144  38.08315277  37.10234833  37.06640244  37.00000763\n",
      "  33.04753876  31.16459846  29.1289978   29.07105446  29.03992844\n",
      "  28.99998474  28.00000381  27.65703964  26.03939819  25.52819252\n",
      "  25.03122902  25.00000572  24.00005341  23.99998283  22.00000954\n",
      "  21.93363762  21.00001335  20.68578529  20.00000572  20.00000572\n",
      "  19.80418396  17.82784653  16.94734573  16.          15.99999428\n",
      "  14.92892456  13.00000191  11.99999332  11.95249748  11.00000381\n",
      "  10.99999619  10.00000668  10.00000286  10.           9.00000286\n",
      "   7.99999857   7.00000095   7.00000095   6.99999952   6.00000286   5.           4.\n",
      "   4.           3.96006298   1.        ]\n"
     ]
    }
   ],
   "source": [
    "# fbpca\n",
    "import fbpca \n",
    "%time sig_rsvd_fbpca = fbpca.pca(x,50,True)[1]\n",
    "eig_rsvd_fbpca = sig_rsvd_fbpca ** 2\n",
    "print (eig_rsvd_fbpca)\n"
   ]
  },
  {
   "cell_type": "markdown",
   "metadata": {},
   "source": [
    "Here is our own implementation of randomized SVD. After reduce the dimention, we use np.linalg.svd (the svd function in numpy) to conduct svd on a smaller scale matrix"
   ]
  },
  {
   "cell_type": "code",
   "execution_count": 7,
   "metadata": {},
   "outputs": [
    {
     "name": "stdout",
     "output_type": "stream",
     "text": [
      "CPU times: user 111 ms, sys: 32.6 ms, total: 144 ms\n",
      "Wall time: 98.6 ms\n",
      "[ 40.00001144  38.08315277  37.10234833  37.06640244  37.00000763\n",
      "  33.04753876  31.16459846  29.1289978   29.07105446  29.03992844\n",
      "  28.99998474  28.00000381  27.65703964  26.03939819  25.52819252\n",
      "  25.03122902  25.00000572  24.00005341  23.99998283  22.00000954\n",
      "  21.93363762  21.00001335  20.68578529  20.00000572  20.00000572\n",
      "  19.80418396  17.82784653  16.94734573  16.          15.99999428\n",
      "  14.92892456  13.00000191  11.99999332  11.95249748  11.00000381\n",
      "  10.99999619  10.00000668  10.00000286  10.           9.00000286\n",
      "   7.99999857   7.00000095   7.00000095   6.99999952   6.00000286   5.           4.\n",
      "   4.           3.96006298   1.        ]\n"
     ]
    }
   ],
   "source": [
    "#randomized SVD\n",
    "def randomized_svd(M, k=10):\n",
    "    m, n = M.shape\n",
    "    transpose = False\n",
    "    if m < n:\n",
    "        transpose = True\n",
    "        M = M.T\n",
    "        \n",
    "    rand_matrix = np.random.normal(size=(M.shape[1], k))  # short side by k\n",
    "    Q, _ = np.linalg.qr(M @ rand_matrix, mode='reduced')  # long side by k\n",
    "    smaller_matrix = Q.T @ M                              # k by short side\n",
    "    U_hat, s, V = np.linalg.svd(smaller_matrix, full_matrices=False)\n",
    "    U = Q @ U_hat\n",
    "    \n",
    "    if transpose:\n",
    "        return V.T, s.T, U.T\n",
    "    else:\n",
    "        return U, s, V\n",
    "    \n",
    "%time sig_rsvd = randomized_svd(x,50)[1]\n",
    "eig_rsvd = sig_rsvd_fbpca ** 2\n",
    "print (eig_rsvd)"
   ]
  },
  {
   "cell_type": "markdown",
   "metadata": {},
   "source": [
    "Also, we have scipy's function for computing eigen values for sparse matrix"
   ]
  },
  {
   "cell_type": "code",
   "execution_count": 8,
   "metadata": {},
   "outputs": [
    {
     "name": "stdout",
     "output_type": "stream",
     "text": [
      "CPU times: user 153 ms, sys: 6.51 ms, total: 160 ms\n",
      "Wall time: 89.3 ms\n",
      "[40.000004, 38.083111, 37.102303, 37.066376, 37.0, 33.047508, 31.164608, 29.128977, 29.071066, 29.039927, 28.999994, 27.999996, 27.657045, 26.039396, 25.5282, 25.031216, 24.999994, 24.000002, 23.999996, 21.999994, 21.933632, 21.000002, 20.685768, 20.0, 19.99999, 19.804171, 17.827816, 16.947344, 15.999999, 15.999992, 14.928935, 13.000005, 12.0, 11.952488, 11.000002, 10.999996, 10.000003, 10.000001, 9.999999, 9.0000029, 8.0000019, 7.0000081, 7.000001, 6.9999986, 6.0000091, 5.0000143, 4.0000048, 3.9999919, 3.9600658, 0.99999535]\n"
     ]
    }
   ],
   "source": [
    "\n",
    "#exact:\n",
    "from scipy import sparse\n",
    "import scipy.sparse.linalg as lg\n",
    "X_sparse = sparse.csr_matrix(x)\n",
    "X_T_sparse = sparse.csr_matrix.transpose(X_sparse)\n",
    "XX = X_sparse@X_T_sparse\n",
    "%time eig_exact = lg.eigsh(XX,k=50)\n",
    "eig_exact = eig_exact[0]\n",
    "eig_exact_sorted = sorted(eig_exact,reverse = True)\n",
    "print (eig_exact_sorted)\n"
   ]
  },
  {
   "cell_type": "markdown",
   "metadata": {},
   "source": [
    "# Comparsion of different methods\n",
    "Here, we compare the randomized SVD methods (approximate methods) to the exact methods (scipy's), in terms of computing time and accuracy."
   ]
  },
  {
   "cell_type": "markdown",
   "metadata": {},
   "source": [
    "#### compare approximate methods to exact method's eigenvalue"
   ]
  },
  {
   "cell_type": "code",
   "execution_count": 9,
   "metadata": {},
   "outputs": [
    {
     "name": "stdout",
     "output_type": "stream",
     "text": [
      "total error: \n",
      "0.000535845756531\n",
      "average error:\n",
      "1.07169151306e-05\n"
     ]
    }
   ],
   "source": [
    "# compare approximate methods to exact method's eigen\n",
    "eig_rsvd = list(eig_rsvd)\n",
    "\n",
    "total_error = 0\n",
    "for i in range(len(eig_rsvd)):\n",
    "    error = abs(eig_rsvd[i]-eig_exact_sorted[i])\n",
    "    total_error += error\n",
    "mean_error = total_error/len(eig_rsvd)\n",
    "print (\"total error: \")\n",
    "print (total_error)\n",
    "print (\"average error:\")\n",
    "print (mean_error)"
   ]
  },
  {
   "cell_type": "markdown",
   "metadata": {},
   "source": [
    "#### compute P-value, by Monte Carlo simulation, the distribution of Q"
   ]
  },
  {
   "cell_type": "code",
   "execution_count": 12,
   "metadata": {},
   "outputs": [
    {
     "name": "stdout",
     "output_type": "stream",
     "text": [
      "0.7828660000000001\n"
     ]
    },
    {
     "data": {
      "image/png": "[encoded data removed]",
      "text/plain": [
       "<matplotlib.figure.Figure at 0x1200d2c18>"
      ]
     },
     "metadata": {},
     "output_type": "display_data"
    }
   ],
   "source": [
    "# Monte Carlo, simulate the distribution of Q\n",
    "import matplotlib.pyplot as plt\n",
    "%matplotlib inline\n",
    "\n",
    "\n",
    "N = 1000000\n",
    "\n",
    "Q_distribution = []\n",
    "for i in range(N):\n",
    "    #generate 50 chi-square r.v\n",
    "    sample = np.random.chisquare(1, size=50)\n",
    "    Q_stat = np.sum(eig_exact * sample)/4\n",
    "    Q_distribution.append(Q_stat)\n",
    "    \n",
    "\n",
    "#print (Q_distribution)\n",
    "plt.hist(Q_distribution, bins = 30)\n",
    "q = 223.25\n",
    "def inverse_percentile(arr, num):\n",
    "    arr = sorted(arr)\n",
    "    i_arr = [i for i, x in enumerate(arr) if x > num]\n",
    "\n",
    "    return i_arr[0] / len(arr) if len(i_arr) > 0 else 1\n",
    "abs_Q_distribution = abs(Q_distribution - np.average(Q_distribution))\n",
    "q_abs = abs(q-np.average(Q_distribution))\n",
    "p = 1- inverse_percentile(abs_Q_distribution, q_abs)\n",
    "print (p)\n",
    "\n"
   ]
  },
  {
   "cell_type": "code",
   "execution_count": null,
   "metadata": {},
   "outputs": [],
   "source": []
  },
  {
   "cell_type": "code",
   "execution_count": null,
   "metadata": {
    "collapsed": true
   },
   "outputs": [],
   "source": []
  },
  {
   "cell_type": "markdown",
   "metadata": {},
   "source": [
    "### benchmark, comparsion of computing time\n",
    "Here are our steps to compute the computing time, with different size of K*K matrix:\n",
    "1. generate 50 random eigen value according to N(real eigen value,0.1), accordingly.\n",
    "2. generate a random K*50, orthogonal matrix X, K >50, using the scipy function, scipy.linalg.orth\n",
    "3. compute $X \\Lambda  X^{T}$ , where $ \\Lambda  $ is the 50*50 diagonal matrix with 50 eigenvalues, accordingly.\n",
    "4. using  eigen methods on $X \\Lambda  X^{T}$, and the computing time, with average of 1000 times of computing for each K"
   ]
  },
  {
   "cell_type": "code",
   "execution_count": 27,
   "metadata": {},
   "outputs": [
    {
     "name": "stdout",
     "output_type": "stream",
     "text": [
      "[[-0.0973257   0.11556493  0.08731847 ...,  0.02507832  0.06528766\n",
      "   0.01759556]\n",
      " [-0.11334519  0.14854615 -0.1579003  ...,  0.0657426   0.04356572\n",
      "  -0.09522703]\n",
      " [-0.11026109  0.00578262  0.01771882 ...,  0.18526249  0.14341826\n",
      "  -0.16599502]\n",
      " ..., \n",
      " [-0.10235634  0.04291876  0.05122064 ..., -0.043659   -0.1681546\n",
      "   0.1182403 ]\n",
      " [-0.09778275 -0.08527034 -0.21115958 ..., -0.04515087 -0.05654244\n",
      "   0.13090622]\n",
      " [-0.09178478 -0.22044286  0.02379291 ..., -0.06872249 -0.19076769\n",
      "   0.10581162]]\n",
      "(100, 100)\n"
     ]
    }
   ],
   "source": [
    "\n",
    "#generate 50 random eigen value according to N(real eigen value,0.1)\n",
    "\n",
    "print (eig_exact)\n",
    "random_eigen = [0]*50\n",
    "for i in range(50):\n",
    "    random_eigen[i]= float(np.random.normal(eig_exact[i], 0.1, 1))\n",
    "print (random_eigen)\n",
    "\n",
    "#generate K*50, orthogonal matrix, K >50\n",
    "import scipy\n",
    "K = 100\n",
    "a = np.random.random(size=(K, 50))\n",
    "q = scipy.linalg.orth(a)\n",
    "print (q)\n",
    "I = np.identity(50)\n",
    "E = I*random_eigen\n",
    "M = q @ E @ q.T\n",
    "print (M)\n",
    "import time\n",
    "\n",
    "X_sparse = sparse.csr_matrix(q)\n",
    "X_T_sparse = sparse.csr_matrix.transpose(X_sparse)\n",
    "XX = X_sparse@E@X_T_sparse\n",
    "start_time = time.clock()\n",
    "eig_2 = lg.eigsh(XX,k=50)\n",
    "end_time = time.clock()\n",
    "eig_2 = eig_2[0]\n",
    "print (eig_2)\n",
    "print (end_time - start_time)"
   ]
  },
  {
   "cell_type": "code",
   "execution_count": null,
   "metadata": {},
   "outputs": [],
   "source": []
  },
  {
   "cell_type": "markdown",
   "metadata": {},
   "source": [
    "Here are the functions to test average running time for computing eigenvalues for different methods"
   ]
  },
  {
   "cell_type": "code",
   "execution_count": 46,
   "metadata": {},
   "outputs": [
    {
     "name": "stdout",
     "output_type": "stream",
     "text": [
      "(0.00524902299999917, array([  1.07042263,   3.88847997,   3.91954555,   4.02155654,\n",
      "         5.12766639,   5.89313308,   6.9530751 ,   7.0012983 ,\n",
      "         7.19444368,   8.10682994,   9.04966198,   9.80336425,\n",
      "         9.83089019,  10.07918536,  10.96196389,  11.06235327,\n",
      "        11.89035624,  12.11788171,  13.07394175,  14.76239531,\n",
      "        15.90512725,  16.01414024,  17.00351365,  17.87744637,\n",
      "        19.78752863,  20.0031318 ,  20.0464879 ,  20.8550785 ,\n",
      "        20.93276191,  21.79857358,  21.96992874,  23.86702913,\n",
      "        24.02494727,  24.96627638,  25.14302706,  25.5509677 ,\n",
      "        26.01233751,  27.71491217,  28.08811381,  29.00288825,\n",
      "        29.07165083,  29.16051431,  29.20807506,  31.10977925,\n",
      "        32.80298801,  36.99257841,  37.05965941,  37.13969989,\n",
      "        37.94605951,  39.97900011]))\n",
      "[0.00031658900000024914, 0.0003871160000001055, 0.00043879900000047203, 0.0004686599999995451, 0.0005894370000021354, 0.0005498940000002221, 0.000747791999999663, 0.0007716670000020258, 0.0007576680000013312, 0.0008437900000008085, 0.0010405119999998078, 0.0008782639999992625, 0.0009963280000008581, 0.0009387019999994664, 0.0008235159999999269, 0.0008271569999997155, 0.0009022649999990335, 0.0008017750000001342, 0.0008263079999996989, 0.0008323300000001836, 0.0008439599999992424, 0.0008256120000010015, 0.0008545140000012452, 0.0008585200000006808, 0.0008760279999999056, 0.0008637240000002748, 0.0009001989999987927, 0.0008969440000018949, 0.0009972680000005312, 0.0008849119999999858, 0.0009213500000003023, 0.0009242220000000998, 0.001004325999998855, 0.0009122470000011162, 0.000976444000000356, 0.0009572589999995671, 0.0009677309999999579, 0.000947001000000455, 0.0010010549999994963, 0.0010004460000002382, 0.001055115999999998, 0.0009699539999994613, 0.001026110000000699, 0.0010612600000010843, 0.0011096180000015464, 0.0010717520000014247, 0.001104972000000771, 0.0011088340000003428, 0.0011348199999993084, 0.0010649330000010195, 0.0011705259999985173, 0.0011527189999997064, 0.0011547879999982342, 0.0011396859999993011, 0.0011619099999984428, 0.0011827260000013666, 0.001156976000002487, 0.0011013510000018414, 0.0011592969999987873, 0.00116157400000111, 0.001186415999999781, 0.0011625110000004497, 0.0012046289999998407, 0.0012150330000017676, 0.0012385750000000826, 0.0011880710000000364, 0.001251982000001135, 0.0012724140000000262, 0.001272221999999374, 0.0012467740000010963, 0.001283558000000312, 0.0013306769999983316, 0.0013310160000007728, 0.0012700759999995626, 0.001351532000000134, 0.0013470269999995709, 0.0014506089999997585, 0.001402676000000838, 0.0014880680000010215, 0.0014649390000010954, 0.0014507859999989706, 0.0014394959999997354, 0.00155052000000137, 0.0015059989999988374, 0.0015970240000006016, 0.0015058100000001104, 0.0014871800000003078, 0.0015743919999993067, 0.001515479999999343, 0.0014600660000010067, 0.0016064699999997175, 0.001595189000000346, 0.001606501999998727, 0.0015858150000003662, 0.0016861339999991287, 0.0017773610000001553, 0.0017392999999985932, 0.0016898790000022927, 0.0017613949999997658, 0.001778392000001304, 0.0018618199999987156, 0.001739936000000398, 0.0017415689999991173, 0.001722729000000072, 0.0017411190000002534, 0.0017027210000005652, 0.0017620040000003883, 0.0018264000000003762, 0.0018368270000000849, 0.0018212449999984984, 0.0018822699999993802, 0.0018619489999998678, 0.0019495899999983522, 0.0019064829999997529, 0.00210093100000131, 0.0021579509999978654, 0.002232809000000998, 0.0021611219999995226, 0.002243454999999585, 0.0022549010000007, 0.002317610999999033, 0.0021884859999993294, 0.002250557000000299, 0.002309409000000187, 0.0023455460000013774, 0.002370578999999907, 0.0025742539999994278, 0.0026438969999985603, 0.002657963000000791, 0.002689445999999407, 0.002814815999999837, 0.0027814360000004397, 0.00288790399999948, 0.0029033959999997024, 0.002948549999999841, 0.003052649999999403, 0.003251638000001094, 0.0032749650000009753, 0.0036421289999982493, 0.005018422000000555, 0.004210952999999563, 0.0044385140000001684, 0.004876080999998976, 0.004423677000000907, 0.004309396999999763, 0.004134681000000683, 0.003883762000000388, 0.004028414999999768, 0.004200733999999329, 0.0041837469999998125, 0.004426589000000831, 0.0043309129999984175, 0.00446911499999942, 0.004539370999998937, 0.0043694579999996675, 0.004485276999999087, 0.004626555999999937, 0.00482310899999834, 0.004688795999999684, 0.004525740000000042, 0.004572046000000228, 0.00445287699999858, 0.004657418000000234, 0.004277460999999675, 0.004184365999999727, 0.004217605000000276, 0.00449933600000054, 0.00443210299999987, 0.004602439999999433, 0.0045535980000004205, 0.004436136999999917, 0.004506036999999423, 0.0045199549999993, 0.0053183679999995095, 0.005048741000000291, 0.004885861000000659, 0.0045437950000007275, 0.004492968999999675, 0.004792737999999645, 0.004844271999999592, 0.0049154889999999795, 0.004818761000000904, 0.004823877000001175, 0.0049579990000002, 0.004984253000000535, 0.005042467999999871, 0.0050110930000005285, 0.005090036999999939, 0.005331413999999085, 0.005387589999998909]\n"
     ]
    },
    {
     "data": {
      "image/png": "[encoded data removed]",
      "text/plain": [
       "<matplotlib.figure.Figure at 0x1181c8ba8>"
      ]
     },
     "metadata": {},
     "output_type": "display_data"
    }
   ],
   "source": [
    "# function to test average running time for computing eigen\n",
    "#function 1, testing the computing time of scipy function\n",
    "def test_eigen_1(K):\n",
    "    random_eigen = [0]*50\n",
    "    for i in range(50):\n",
    "        random_eigen[i]= float(np.random.normal(eig_exact[i], 0.1, 1))\n",
    "    a = np.random.random(size=(K, 50))\n",
    "    q = scipy.linalg.orth(a)\n",
    "    I = np.identity(50)\n",
    "    E = I*random_eigen\n",
    "    M = q @ E @ q.T\n",
    "    X_sparse = sparse.csr_matrix(q)\n",
    "    X_T_sparse = sparse.csr_matrix.transpose(X_sparse)\n",
    "    XX = X_sparse@E@X_T_sparse\n",
    "    time_list = []\n",
    "    for j in range(100):\n",
    "        start_time = time.clock()\n",
    "        eig_2 = lg.eigsh(XX,k=50)\n",
    "        end_time = time.clock()\n",
    "        time_list.append(end_time-start_time)\n",
    "    average_time = sum(time_list)/1000\n",
    "    eig_2 = eig_2[0]\n",
    "    return (average_time, eig_2)\n",
    "    \n",
    "\n",
    "    \n"
   ]
  },
  {
   "cell_type": "code",
   "execution_count": null,
   "metadata": {},
   "outputs": [],
   "source": [
    "#function 2, testing the computing time of randomized SVD function\n",
    "def test_rsvd_1(K):\n",
    "    random_eigen = [0]*50\n",
    "    for i in range(50):\n",
    "        random_eigen[i]= float(np.random.normal(eig_exact[i], 0.1, 1))\n",
    "    a = np.random.random(size=(K, 50))\n",
    "    q = scipy.linalg.orth(a)\n",
    "    I = np.identity(50)\n",
    "    E = I*np.sqrt(random_eigen)\n",
    "    X_sparse = sparse.csr_matrix(q)   \n",
    "    XX = X_sparse@E\n",
    "    time_list = []\n",
    "    for j in range(100):\n",
    "        start_time = time.clock()\n",
    "        eig_2 = randomized_svd(XX,50)\n",
    "        end_time = time.clock()\n",
    "        time_list.append(end_time-start_time)\n",
    "    average_time = sum(time_list)/1000\n",
    "    eig_2 = eig_2[0]\n",
    "    return (average_time, eig_2)\n",
    "\n",
    "\n",
    "#print (test_eigen_1(1000))\n",
    "#compute list of runing time vs. K\n",
    "k_list = range(100,1000,5)\n",
    "time_list = [test_rsvd_1(k)[0] for k in k_list]\n",
    "#print (time_list)\n",
    "import matplotlib.pyplot as plt\n",
    "plt.plot(k_list, time_list, 'ro')\n",
    "plt.show()"
   ]
  },
  {
   "cell_type": "code",
   "execution_count": null,
   "metadata": {},
   "outputs": [],
   "source": [
    "\n",
    "\n"
   ]
  },
  {
   "cell_type": "code",
   "execution_count": null,
   "metadata": {
    "collapsed": true
   },
   "outputs": [],
   "source": []
  },
  {
   "cell_type": "code",
   "execution_count": null,
   "metadata": {
    "collapsed": true
   },
   "outputs": [],
   "source": []
  },
  {
   "cell_type": "code",
   "execution_count": null,
   "metadata": {
    "collapsed": true
   },
   "outputs": [],
   "source": []
  },
  {
   "cell_type": "code",
   "execution_count": null,
   "metadata": {
    "collapsed": true
   },
   "outputs": [],
   "source": []
  },
  {
   "cell_type": "code",
   "execution_count": null,
   "metadata": {
    "collapsed": true
   },
   "outputs": [],
   "source": []
  },
  {
   "cell_type": "code",
   "execution_count": null,
   "metadata": {
    "collapsed": true
   },
   "outputs": [],
   "source": []
  },
  {
   "cell_type": "code",
   "execution_count": null,
   "metadata": {
    "collapsed": true
   },
   "outputs": [],
   "source": [
    "# Appendix"
   ]
  },
  {
   "cell_type": "markdown",
   "metadata": {
    "collapsed": true
   },
   "source": [
    "#### Process behind Randomized SVD"
   ]
  },
  {
   "cell_type": "markdown",
   "metadata": {
    "collapsed": true
   },
   "source": [
    "Here is a process to calculate a truncated SVD, described in [Finding Structure with Randomness: Probabilistic Algorithms for Constructing Approximate Matrix Decompositions](https://arxiv.org/pdf/0909.4061.pdf) and [summarized in this blog post](https://research.fb.com/fast-randomized-svd/):\n",
    "\n",
    "1\\. Compute an approximation to the range of $A$. That is, we want $Q$ with $r$ orthonormal columns such that $$A \\approx QQ^TA$$\n",
    "\n",
    "\n",
    "2\\. Construct $B = Q^T A$, which is small ($r\\times n$)\n",
    "\n",
    "\n",
    "3\\. Compute the SVD of $B$ by standard methods (fast since $B$ is smaller than $A$), $B = S\\,\\Sigma V^T$\n",
    "\n",
    "4\\. Since $$ A \\approx Q Q^T A = Q (S\\,\\Sigma V^T)$$ if we set $U = QS$, then we have a low rank approximation $A \\approx U \\Sigma V^T$."
   ]
  },
  {
   "cell_type": "markdown",
   "metadata": {},
   "source": [
    "#### So how do we find $Q$ (in step 1)?"
   ]
  },
  {
   "cell_type": "markdown",
   "metadata": {},
   "source": [
    "To estimate the range of $A$, we can just take a bunch of random vectors $w_i$, evaluate the subspace formed by $Aw_i$.  We can form a matrix $W$ with the $w_i$ as it's columns.  Now, we take the QR decomposition of $AW = QR$, then the columns of $Q$ form an orthonormal basis for $AW$, which is the range of $A$.\n",
    "\n",
    "Since the matrix $AW$ of the product has far more rows than columns and therefore, approximately, orthonormal columns. This is simple probability - with lots of rows, and few columns, it's unlikely that the columns are linearly dependent."
   ]
  },
  {
   "cell_type": "markdown",
   "metadata": {},
   "source": [
    "#### Why M ~ Q Q.T M"
   ]
  },
  {
   "cell_type": "markdown",
   "metadata": {},
   "source": [
    "We are trying to find a matrix Q such that $M \\approx Q Q^T M$.  We are interested in the range of $M$, let's call this $MX$.  $Q$ has orthonormal columns so $Q^TQ = I$ (but $QQ^T$ isn't $I$, since $Q$ is rectangular)\n",
    "\n",
    "$$ QR = MX $$\n",
    "$$ QQ^TQR = QQ^TMX $$\n",
    "$$ QR = QQ^TMX $$\n",
    "so...\n",
    "$$ MX = QQ^TMX $$\n",
    "\n",
    "If $X$ is the identity, we'd be done (but then $X$ would be too big, and we wouldn't get the speed up we're looking for).  In our problem, $X$ is just a small random matrix.  The Johnson-Lindenstrauss Lemma provides some justification of why this works."
   ]
  },
  {
   "cell_type": "markdown",
   "metadata": {},
   "source": [
    "#### The QR Decomposition"
   ]
  },
  {
   "cell_type": "markdown",
   "metadata": {},
   "source": [
    "We will be learning about the QR decomposition **in depth** later on.  For now, you just need to know that $A = QR$, where $Q$ consists of orthonormal columns, and $R$ is upper triangular.  Trefethen says that the QR decomposition is the most important idea in numerical linear algebra!  We will definitely be returning to it."
   ]
  },
  {
   "cell_type": "markdown",
   "metadata": {},
   "source": [
    "#### How should we choose $r$?"
   ]
  },
  {
   "cell_type": "markdown",
   "metadata": {},
   "source": [
    "Suppose our matrix has 100 columns, and we want 5 columns in U and V. To be safe, we should project our matrix onto an orthogonal basis with a few more rows and columns than 5 (let's use 15).  At the end, we will just grab the first 5 columns of U and V\n",
    "\n",
    "So even although our projection was only approximate, by making it a bit bigger than we need, we can make up for the loss of accuracy (since we're only taking a subset later). "
   ]
  },
  {
   "cell_type": "markdown",
   "metadata": {
    "collapsed": true
   },
   "source": [
    "# Reference\n",
    "[Finding Structure with Randomness: Probabilistic Algorithms for Constructing Approximate Matrix Decompositions](https://arxiv.org/pdf/0909.4061.pdf)\n",
    "\n",
    "[Facebook's research blog about randomized SVD](https://research.fb.com/fast-randomized-svd/)"
   ]
  },
  {
   "cell_type": "code",
   "execution_count": null,
   "metadata": {
    "collapsed": true
   },
   "outputs": [],
   "source": []
  }
 ],
 "metadata": {
  "kernelspec": {
   "display_name": "Python 3",
   "language": "python",
   "name": "python3"
  },
  "language_info": {
   "codemirror_mode": {
    "name": "ipython",
    "version": 3
   },
   "file_extension": ".py",
   "mimetype": "text/x-python",
   "name": "python",
   "nbconvert_exporter": "python",
   "pygments_lexer": "ipython3",
   "version": "3.6.1"
  }
 },
 "nbformat": 4,
 "nbformat_minor": 2
}
