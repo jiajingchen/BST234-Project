{
 "cells": [
  {
   "cell_type": "code",
   "execution_count": 19,
   "metadata": {
    "collapsed": true
   },
   "outputs": [],
   "source": [
    "import numpy as np\n",
    "import time\n",
    "from scipy import sparse\n",
    "import random\n",
    "import matplotlib.pyplot as plt\n"
   ]
  },
  {
   "cell_type": "code",
   "execution_count": 20,
   "metadata": {
    "collapsed": true
   },
   "outputs": [],
   "source": [
    "def prep_data():\n",
    "    x = np.loadtxt(\"simulated_genos\", delimiter=\" \", dtype=\"float32\")\n",
    "    y = np.array([[1] * 10000 + [0] * 10000], dtype=\"float32\")\n",
    "    y_c = y - 0.5\n",
    "    return x, y_c\n",
    "\n",
    "x, y_c = prep_data()"
   ]
  },
  {
   "cell_type": "code",
   "execution_count": 21,
   "metadata": {},
   "outputs": [
    {
     "name": "stdout",
     "output_type": "stream",
     "text": [
      "(20000, 50)\n",
      "20000 50\n"
     ]
    }
   ],
   "source": [
    "X = x\n",
    "print (X.shape)\n",
    "n = X.shape[0]\n",
    "p = X.shape[1]\n",
    "print (n,p)"
   ]
  },
  {
   "cell_type": "code",
   "execution_count": 22,
   "metadata": {
    "collapsed": true
   },
   "outputs": [],
   "source": [
    "start_time = time.clock()"
   ]
  },
  {
   "cell_type": "code",
   "execution_count": 23,
   "metadata": {},
   "outputs": [
    {
     "name": "stdout",
     "output_type": "stream",
     "text": [
      "[[ 0.25  0.    0.   ...,  0.    0.    0.  ]\n",
      " [ 0.    0.25  0.   ...,  0.    0.    0.  ]\n",
      " [ 0.    0.    0.25 ...,  0.    0.    0.  ]\n",
      " ..., \n",
      " [ 0.    0.    0.   ...,  0.25  0.    0.  ]\n",
      " [ 0.    0.    0.   ...,  0.    0.25  0.  ]\n",
      " [ 0.    0.    0.   ...,  0.    0.    0.25]]\n"
     ]
    }
   ],
   "source": [
    "V = 0.25 * np.identity (n)\n",
    "print (V)"
   ]
  },
  {
   "cell_type": "code",
   "execution_count": 24,
   "metadata": {},
   "outputs": [
    {
     "name": "stdout",
     "output_type": "stream",
     "text": [
      "(20000, 51)\n"
     ]
    }
   ],
   "source": [
    "x1 = np.ones(shape=(n,1))\n",
    "X_tu = np.concatenate((x1,X),axis=1) \n",
    "print (X_tu.shape)"
   ]
  },
  {
   "cell_type": "code",
   "execution_count": 25,
   "metadata": {
    "collapsed": true
   },
   "outputs": [],
   "source": [
    "# compute P0\n",
    "inv = np.linalg.inv(X_tu.T@V@X_tu)\n",
    "first = V@X_tu\n",
    "\n"
   ]
  },
  {
   "cell_type": "code",
   "execution_count": 26,
   "metadata": {},
   "outputs": [
    {
     "name": "stdout",
     "output_type": "stream",
     "text": [
      "(20000, 51)\n",
      "(51, 20000)\n"
     ]
    }
   ],
   "source": [
    "first_inv = first@inv\n",
    "first_T = first.T\n",
    "\n",
    "print (first_inv.shape)\n",
    "print (first_T.shape)\n"
   ]
  },
  {
   "cell_type": "code",
   "execution_count": 27,
   "metadata": {
    "collapsed": true
   },
   "outputs": [],
   "source": [
    "P_0_V =  first_inv@first_T\n",
    "P_0 = V- P_0_V"
   ]
  },
  {
   "cell_type": "code",
   "execution_count": 28,
   "metadata": {},
   "outputs": [
    {
     "name": "stdout",
     "output_type": "stream",
     "text": [
      "(20000, 20000)\n",
      "[[  2.49986891e-01  -1.31087014e-05  -1.31087014e-05 ...,  -1.31087014e-05\n",
      "   -1.31087014e-05  -1.31087014e-05]\n",
      " [ -1.31087014e-05   2.49986891e-01  -1.31087014e-05 ...,  -1.31087014e-05\n",
      "   -1.31087014e-05  -1.31087014e-05]\n",
      " [ -1.31087014e-05  -1.31087014e-05   2.49986891e-01 ...,  -1.31087014e-05\n",
      "   -1.31087014e-05  -1.31087014e-05]\n",
      " ..., \n",
      " [ -1.31087014e-05  -1.31087014e-05  -1.31087014e-05 ...,   2.49986891e-01\n",
      "   -1.31087014e-05  -1.31087014e-05]\n",
      " [ -1.31087014e-05  -1.31087014e-05  -1.31087014e-05 ...,  -1.31087014e-05\n",
      "    2.49986891e-01  -1.31087014e-05]\n",
      " [ -1.31087014e-05  -1.31087014e-05  -1.31087014e-05 ...,  -1.31087014e-05\n",
      "   -1.31087014e-05   2.49986891e-01]]\n"
     ]
    }
   ],
   "source": [
    "print (P_0.shape)\n",
    "print (P_0)"
   ]
  },
  {
   "cell_type": "code",
   "execution_count": null,
   "metadata": {},
   "outputs": [],
   "source": [
    "# egin\n",
    "\n",
    "K = X@X.T\n",
    "P = scipy.linalg.sqrtm(P_0)\n",
    "A = P@K@P\n",
    "eig = numpy.linalg.eig(A)\n",
    "print (eig)"
   ]
  },
  {
   "cell_type": "code",
   "execution_count": null,
   "metadata": {
    "collapsed": true
   },
   "outputs": [],
   "source": [
    "end_time = time.clock()\n",
    "print('Use numpy egi package, computation time: ', end_time - start_time)"
   ]
  },
  {
   "cell_type": "code",
   "execution_count": null,
   "metadata": {
    "collapsed": true
   },
   "outputs": [],
   "source": []
  },
  {
   "cell_type": "code",
   "execution_count": null,
   "metadata": {
    "collapsed": true
   },
   "outputs": [],
   "source": [
    "#sparse\n",
    "from scipy import sparse\n",
    "\n",
    "start_time = time.clock()\n",
    "xtvx_sparse = sparse.csr_matrix(X_tu.T@V@X_tu)\n"
   ]
  },
  {
   "cell_type": "code",
   "execution_count": 18,
   "metadata": {},
   "outputs": [
    {
     "name": "stdout",
     "output_type": "stream",
     "text": [
      "[[1 2]\n",
      " [3 4]] [[ 0.55368857+0.46439416j  0.80696073-0.21242648j]\n",
      " [ 1.21044109-0.31863972j  1.76412966+0.14575444j]]\n",
      "[[ 1. +2.33436442e-17j  2. -1.10250720e-16j]\n",
      " [ 3. -4.54784262e-17j  4. +5.96440478e-17j]]\n"
     ]
    }
   ],
   "source": []
  },
  {
   "cell_type": "code",
   "execution_count": null,
   "metadata": {
    "collapsed": true
   },
   "outputs": [],
   "source": []
  }
 ],
 "metadata": {
  "kernelspec": {
   "display_name": "Python 3",
   "language": "python",
   "name": "python3"
  },
  "language_info": {
   "codemirror_mode": {
    "name": "ipython",
    "version": 3
   },
   "file_extension": ".py",
   "mimetype": "text/x-python",
   "name": "python",
   "nbconvert_exporter": "python",
   "pygments_lexer": "ipython3",
   "version": "3.6.1"
  }
 },
 "nbformat": 4,
 "nbformat_minor": 2
}
