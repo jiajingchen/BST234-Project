{
 "cells": [
  {
   "cell_type": "code",
   "execution_count": 4,
   "metadata": {},
   "outputs": [
    {
     "name": "stdout",
     "output_type": "stream",
     "text": [
      "(20000, 50)\n"
     ]
    }
   ],
   "source": [
    "import numpy as np\n",
    "import fbpca \n",
    "\n",
    "\n",
    "def prep_data():\n",
    "    x = np.loadtxt(\"simulated_genos\", delimiter=\" \", dtype=\"float32\")\n",
    "    y = np.array([[1] * 10000 + [0] * 10000], dtype=\"float32\")\n",
    "    y_c = y - 0.5\n",
    "    return x, y_c\n",
    "\n",
    "x, y_c = prep_data()\n",
    "print (x.shape)\n"
   ]
  },
  {
   "cell_type": "code",
   "execution_count": 5,
   "metadata": {},
   "outputs": [
    {
     "name": "stdout",
     "output_type": "stream",
     "text": [
      "CPU times: user 53.8 ms, sys: 20.3 ms, total: 74 ms\n",
      "Wall time: 102 ms\n",
      "[ 40.00001144  38.08315277  37.10234833  37.06640244  37.00000763\n",
      "  33.04753876  31.16459846  29.1289978   29.07105446  29.03992844\n",
      "  28.99998474  28.00000381  27.65703964  26.03939819  25.52819252\n",
      "  25.03122902  25.00000572  24.00005341  23.99998283  22.00000954\n",
      "  21.93363762  21.00001335  20.68578529  20.00000572  20.00000572\n",
      "  19.80418396  17.82784653  16.94734573  16.          15.99999428\n",
      "  14.92892456  13.00000191  11.99999332  11.95249748  11.00000381\n",
      "  10.99999619  10.00000668  10.00000286  10.           9.00000286\n",
      "   7.99999857   7.00000095   7.00000095   6.99999952   6.00000286   5.           4.\n",
      "   4.           3.96006298   1.        ]\n"
     ]
    }
   ],
   "source": [
    "# fbpca\n",
    "\n",
    "%time sig_rsvd_fbpca = fbpca.pca(x,50,True)[1]\n",
    "eig_rsvd_fbpca = sig_rsvd_fbpca ** 2\n",
    "print (eig_rsvd_fbpca)\n"
   ]
  },
  {
   "cell_type": "code",
   "execution_count": 6,
   "metadata": {},
   "outputs": [
    {
     "name": "stdout",
     "output_type": "stream",
     "text": [
      "CPU times: user 104 ms, sys: 31.1 ms, total: 136 ms\n",
      "Wall time: 95.7 ms\n",
      "[ 40.00001144  38.08315277  37.10234833  37.06640244  37.00000763\n",
      "  33.04753876  31.16459846  29.1289978   29.07105446  29.03992844\n",
      "  28.99998474  28.00000381  27.65703964  26.03939819  25.52819252\n",
      "  25.03122902  25.00000572  24.00005341  23.99998283  22.00000954\n",
      "  21.93363762  21.00001335  20.68578529  20.00000572  20.00000572\n",
      "  19.80418396  17.82784653  16.94734573  16.          15.99999428\n",
      "  14.92892456  13.00000191  11.99999332  11.95249748  11.00000381\n",
      "  10.99999619  10.00000668  10.00000286  10.           9.00000286\n",
      "   7.99999857   7.00000095   7.00000095   6.99999952   6.00000286   5.           4.\n",
      "   4.           3.96006298   1.        ]\n"
     ]
    }
   ],
   "source": [
    "#randomized SVD\n",
    "def randomized_svd(M, k=10):\n",
    "    m, n = M.shape\n",
    "    transpose = False\n",
    "    if m < n:\n",
    "        transpose = True\n",
    "        M = M.T\n",
    "        \n",
    "    rand_matrix = np.random.normal(size=(M.shape[1], k))  # short side by k\n",
    "    Q, _ = np.linalg.qr(M @ rand_matrix, mode='reduced')  # long side by k\n",
    "    smaller_matrix = Q.T @ M                              # k by short side\n",
    "    U_hat, s, V = np.linalg.svd(smaller_matrix, full_matrices=False)\n",
    "    U = Q @ U_hat\n",
    "    \n",
    "    if transpose:\n",
    "        return V.T, s.T, U.T\n",
    "    else:\n",
    "        return U, s, V\n",
    "    \n",
    "%time sig_rsvd = randomized_svd(x,50)[1]\n",
    "eig_rsvd = sig_rsvd_fbpca ** 2\n",
    "print (eig_rsvd)"
   ]
  },
  {
   "cell_type": "code",
   "execution_count": 57,
   "metadata": {},
   "outputs": [
    {
     "name": "stdout",
     "output_type": "stream",
     "text": [
      "CPU times: user 190 ms, sys: 3.43 ms, total: 193 ms\n",
      "Wall time: 104 ms\n",
      "[39.999973, 38.083134, 37.102329, 37.066387, 36.999992, 33.047508, 31.164616, 29.128994, 29.071075, 29.03994, 29.000008, 27.999996, 27.657053, 26.0394, 25.528189, 25.031229, 25.000006, 23.999994, 23.99999, 21.999992, 21.933624, 20.999998, 20.685774, 20.000004, 19.999998, 19.804171, 17.827822, 16.947342, 15.999999, 15.999997, 14.928931, 13.000004, 12.0, 11.95249, 11.000001, 10.999996, 10.000005, 10.0, 9.999999, 8.9999981, 7.9999905, 7.0000019, 7.0000005, 6.999999, 6.0000043, 4.9999995, 4.0000019, 3.9999967, 3.9600568, 0.99998802]\n"
     ]
    }
   ],
   "source": [
    "\n",
    "#exact:\n",
    "from scipy import sparse\n",
    "import scipy.sparse.linalg as lg\n",
    "X_sparse = sparse.csr_matrix(x)\n",
    "X_T_sparse = sparse.csr_matrix.transpose(X_sparse)\n",
    "XX = X_sparse@X_T_sparse\n",
    "%time eig_exact = lg.eigsh(XX,k=50)\n",
    "eig_exact = eig_exact[0]\n",
    "eig_exact_sorted = sorted(eig_exact,reverse = True)\n",
    "print (eig_exact_sorted)\n"
   ]
  },
  {
   "cell_type": "code",
   "execution_count": 53,
   "metadata": {},
   "outputs": [
    {
     "name": "stdout",
     "output_type": "stream",
     "text": [
      "total error: \n",
      "0.000556111335754\n",
      "average error:\n",
      "1.11222267151e-05\n"
     ]
    }
   ],
   "source": [
    "# compare approximate methods to exact method's eigen\n",
    "eig_rsvd = list(eig_rsvd)\n",
    "\n",
    "total_error = 0\n",
    "for i in range(len(eig_rsvd)):\n",
    "    error = abs(eig_rsvd[i]-eig_exact_sorted[i])\n",
    "    total_error += error\n",
    "mean_error = total_error/len(eig_rsvd)\n",
    "print (\"total error: \")\n",
    "print (total_error)\n",
    "print (\"average error:\")\n",
    "print (mean_error)"
   ]
  },
  {
   "cell_type": "code",
   "execution_count": 70,
   "metadata": {},
   "outputs": [
    {
     "data": {
      "text/plain": [
       "(array([  3.00000000e+00,   1.00000000e+01,   2.50000000e+01,\n",
       "          7.70000000e+01,   1.73000000e+02,   3.29000000e+02,\n",
       "          4.75000000e+02,   7.65000000e+02,   9.31000000e+02,\n",
       "          1.04500000e+03,   9.67000000e+02,   1.00900000e+03,\n",
       "          9.78000000e+02,   7.67000000e+02,   6.48000000e+02,\n",
       "          5.22000000e+02,   3.73000000e+02,   2.84000000e+02,\n",
       "          2.04000000e+02,   1.39000000e+02,   9.60000000e+01,\n",
       "          5.70000000e+01,   4.60000000e+01,   3.40000000e+01,\n",
       "          2.10000000e+01,   1.00000000e+01,   8.00000000e+00,\n",
       "          3.00000000e+00,   0.00000000e+00,   1.00000000e+00]),\n",
       " array([  316.20363725,   371.4643762 ,   426.72511515,   481.9858541 ,\n",
       "          537.24659306,   592.50733201,   647.76807096,   703.02880991,\n",
       "          758.28954886,   813.55028781,   868.81102676,   924.07176571,\n",
       "          979.33250466,  1034.59324361,  1089.85398256,  1145.11472151,\n",
       "         1200.37546046,  1255.63619942,  1310.89693837,  1366.15767732,\n",
       "         1421.41841627,  1476.67915522,  1531.93989417,  1587.20063312,\n",
       "         1642.46137207,  1697.72211102,  1752.98284997,  1808.24358892,\n",
       "         1863.50432787,  1918.76506682,  1974.02580577]),\n",
       " <a list of 30 Patch objects>)"
      ]
     },
     "execution_count": 70,
     "metadata": {},
     "output_type": "execute_result"
    },
    {
     "data": {
      "image/png": "[encoded data removed]",
      "text/plain": [
       "<matplotlib.figure.Figure at 0x11e0a5780>"
      ]
     },
     "metadata": {},
     "output_type": "display_data"
    }
   ],
   "source": [
    "# Monte Carlo, simulate the distribution of Q\n",
    "import matplotlib.pyplot as plt\n",
    "%matplotlib inline\n",
    "\n",
    "\n",
    "N = 10000\n",
    "\n",
    "Q_distribution = []\n",
    "for i in range(N):\n",
    "    #generate 50 chi-square r.v\n",
    "    sample = np.random.chisquare(1, size=50)\n",
    "    Q_stat = np.sum(eig_exact * sample)\n",
    "    Q_distribution.append(Q_stat)\n",
    "    \n",
    "\n",
    "#print (Q_distribution)\n",
    "plt.hist(Q_distribution, bins = 30)\n",
    "\n",
    "\n",
    "\n"
   ]
  },
  {
   "cell_type": "code",
   "execution_count": 42,
   "metadata": {},
   "outputs": [
    {
     "name": "stdout",
     "output_type": "stream",
     "text": [
      "<class 'list'>\n"
     ]
    }
   ],
   "source": [
    "# compute p-value\n"
   ]
  },
  {
   "cell_type": "code",
   "execution_count": 69,
   "metadata": {},
   "outputs": [
    {
     "name": "stdout",
     "output_type": "stream",
     "text": [
      "[  1.44101160e+00   3.81753621e+00   1.71768270e+00   4.84555438e-01\n",
      "   1.23339220e-02   6.50477149e-02   3.72354297e-03   6.80515039e-01\n",
      "   1.05234084e+00   2.07964610e-01   2.57247758e-02   3.36339722e+00\n",
      "   1.06681316e-01   4.81106223e-01   1.74997786e+00   2.28624489e-01\n",
      "   2.70480510e-01   1.86436593e-01   1.63258705e+00   5.50267161e-01\n",
      "   9.63954670e-02   5.70640943e+00   3.36284779e+00   3.74539308e-01\n",
      "   6.32193950e-02   1.08573695e-01   1.31016830e+00   5.66923492e-01\n",
      "   5.53774838e-02   2.59782698e+00   7.14247309e-02   8.16609171e-01\n",
      "   2.91400551e+00   2.28495019e+00   1.22384720e-01   7.66362029e-01\n",
      "   1.04051401e+00   8.98883166e-02   1.30965210e+00   2.22934703e+00\n",
      "   9.68037063e-01   5.03829429e-01   7.37128201e-01   2.83545136e-07\n",
      "   9.83015925e-01   2.92778632e-02   7.26076156e+00   4.03304088e-01\n",
      "   1.01395340e-03   2.20414798e-01]\n",
      "952.999998033\n",
      "[  1.44099433e+00   1.51176602e+01   6.87072505e+00   1.93822268e+00\n",
      "   6.16696043e-02   3.90286569e-01   2.60647972e-02   4.76360560e+00\n",
      "   7.36638786e+00   1.66371490e+00   2.31522933e-01   3.36339690e+01\n",
      "   1.06681316e+00   4.81106452e+00   1.92497498e+01   2.51486960e+00\n",
      "   3.23291555e+00   2.23723911e+00   2.12236379e+01   8.21490061e+00\n",
      "   1.54232720e+00   9.13025455e+01   5.69913313e+01   6.67722002e+00\n",
      "   1.25200768e+00   2.17147369e+00   2.62033710e+01   1.17272511e+01\n",
      "   1.16292705e+00   5.69797610e+01   1.57134353e+00   1.95986123e+01\n",
      "   6.99361155e+01   5.71237679e+01   3.06343996e+00   1.95638345e+01\n",
      "   2.70943606e+01   2.48604593e+00   3.66702539e+01   6.46510808e+01\n",
      "   2.81117381e+01   1.46468633e+01   2.14718029e+01   8.83657518e-06\n",
      "   3.24862269e+01   1.08328071e+00   2.69130199e+02   1.49635211e+01\n",
      "   3.86145230e-02   8.81658604e+00]\n"
     ]
    }
   ],
   "source": []
  },
  {
   "cell_type": "code",
   "execution_count": null,
   "metadata": {},
   "outputs": [],
   "source": []
  },
  {
   "cell_type": "markdown",
   "metadata": {
    "collapsed": true
   },
   "source": [
    "#### Process behind Randomized SVD"
   ]
  },
  {
   "cell_type": "markdown",
   "metadata": {
    "collapsed": true
   },
   "source": [
    "Here is a process to calculate a truncated SVD, described in [Finding Structure with Randomness: Probabilistic Algorithms for Constructing Approximate Matrix Decompositions](https://arxiv.org/pdf/0909.4061.pdf) and [summarized in this blog post](https://research.fb.com/fast-randomized-svd/):\n",
    "\n",
    "1\\. Compute an approximation to the range of $A$. That is, we want $Q$ with $r$ orthonormal columns such that $$A \\approx QQ^TA$$\n",
    "\n",
    "\n",
    "2\\. Construct $B = Q^T A$, which is small ($r\\times n$)\n",
    "\n",
    "\n",
    "3\\. Compute the SVD of $B$ by standard methods (fast since $B$ is smaller than $A$), $B = S\\,\\Sigma V^T$\n",
    "\n",
    "4\\. Since $$ A \\approx Q Q^T A = Q (S\\,\\Sigma V^T)$$ if we set $U = QS$, then we have a low rank approximation $A \\approx U \\Sigma V^T$."
   ]
  },
  {
   "cell_type": "markdown",
   "metadata": {},
   "source": [
    "#### So how do we find $Q$ (in step 1)?"
   ]
  },
  {
   "cell_type": "markdown",
   "metadata": {},
   "source": [
    "To estimate the range of $A$, we can just take a bunch of random vectors $w_i$, evaluate the subspace formed by $Aw_i$.  We can form a matrix $W$ with the $w_i$ as it's columns.  Now, we take the QR decomposition of $AW = QR$, then the columns of $Q$ form an orthonormal basis for $AW$, which is the range of $A$.\n",
    "\n",
    "Since the matrix $AW$ of the product has far more rows than columns and therefore, approximately, orthonormal columns. This is simple probability - with lots of rows, and few columns, it's unlikely that the columns are linearly dependent."
   ]
  },
  {
   "cell_type": "markdown",
   "metadata": {},
   "source": [
    "#### Why M ~ Q Q.T M"
   ]
  },
  {
   "cell_type": "markdown",
   "metadata": {},
   "source": [
    "We are trying to find a matrix Q such that $M \\approx Q Q^T M$.  We are interested in the range of $M$, let's call this $MX$.  $Q$ has orthonormal columns so $Q^TQ = I$ (but $QQ^T$ isn't $I$, since $Q$ is rectangular)\n",
    "\n",
    "$$ QR = MX $$\n",
    "$$ QQ^TQR = QQ^TMX $$\n",
    "$$ QR = QQ^TMX $$\n",
    "so...\n",
    "$$ MX = QQ^TMX $$\n",
    "\n",
    "If $X$ is the identity, we'd be done (but then $X$ would be too big, and we wouldn't get the speed up we're looking for).  In our problem, $X$ is just a small random matrix.  The Johnson-Lindenstrauss Lemma provides some justification of why this works."
   ]
  },
  {
   "cell_type": "markdown",
   "metadata": {},
   "source": [
    "#### The QR Decomposition"
   ]
  },
  {
   "cell_type": "markdown",
   "metadata": {},
   "source": [
    "We will be learning about the QR decomposition **in depth** later on.  For now, you just need to know that $A = QR$, where $Q$ consists of orthonormal columns, and $R$ is upper triangular.  Trefethen says that the QR decomposition is the most important idea in numerical linear algebra!  We will definitely be returning to it."
   ]
  },
  {
   "cell_type": "markdown",
   "metadata": {},
   "source": [
    "#### How should we choose $r$?"
   ]
  },
  {
   "cell_type": "markdown",
   "metadata": {},
   "source": [
    "Suppose our matrix has 100 columns, and we want 5 columns in U and V. To be safe, we should project our matrix onto an orthogonal basis with a few more rows and columns than 5 (let's use 15).  At the end, we will just grab the first 5 columns of U and V\n",
    "\n",
    "So even although our projection was only approximate, by making it a bit bigger than we need, we can make up for the loss of accuracy (since we're only taking a subset later). "
   ]
  },
  {
   "cell_type": "code",
   "execution_count": null,
   "metadata": {
    "collapsed": true
   },
   "outputs": [],
   "source": []
  },
  {
   "cell_type": "code",
   "execution_count": null,
   "metadata": {
    "collapsed": true
   },
   "outputs": [],
   "source": []
  }
 ],
 "metadata": {
  "kernelspec": {
   "display_name": "Python 3",
   "language": "python",
   "name": "python3"
  },
  "language_info": {
   "codemirror_mode": {
    "name": "ipython",
    "version": 3
   },
   "file_extension": ".py",
   "mimetype": "text/x-python",
   "name": "python",
   "nbconvert_exporter": "python",
   "pygments_lexer": "ipython3",
   "version": "3.6.1"
  }
 },
 "nbformat": 4,
 "nbformat_minor": 2
}
