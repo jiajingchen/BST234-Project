{
 "cells": [
  {
   "cell_type": "code",
   "execution_count": 1,
   "metadata": {},
   "outputs": [
    {
     "name": "stdout",
     "output_type": "stream",
     "text": [
      "(20000, 50)\n"
     ]
    }
   ],
   "source": [
    "import numpy as np\n",
    "import scipy\n",
    "import scipy.linalg\n",
    "import fbpca \n",
    "import random\n",
    "import time\n",
    "\n",
    "def prep_data():\n",
    "    x = np.loadtxt(\"simulated_genos\", delimiter=\" \", dtype=\"float32\")\n",
    "    y = np.array([[1] * 10000 + [0] * 10000], dtype=\"float32\")\n",
    "    y_c = y - 0.5\n",
    "    return x, y_c\n",
    "\n",
    "x, y_c = prep_data()\n",
    "print (x.shape)\n"
   ]
  },
  {
   "cell_type": "markdown",
   "metadata": {},
   "source": [
    "# Singular Value Decomposition (SVD)\n",
    "Computing the Singular Value Decomposition (SVD) is a fundamental linear algebra primitive, ubiquitous in machine learning, statistics, signal processing, and other fields. Formally, the SVD of a real m × n matrix A is a factorization of the form A = U Σ Vᵀ, where U is an m × m orthogonal matrix of left singular vectors, Σ is an m × n diagonal matrix of singular values, and Vᵀ is an n × n orthogonal matrix of right singular vectors.\n",
    "\n",
    "The SVD provides a roadmap to computing a low-rank approximation for A– that is, finding a matrix Aᵣ with rank r < m, n such that ||Aᵣ – A|| is minimized. Given A = U Σ Vᵀ, we can approximate A by the following procedure:\n",
    "\n",
    "Sort the nonzero elements of Σ in decreasing order;\n",
    "Take the first r elements of Σ (say Σᵣ, an r × r diagonal matrix), the corresponding columns of U (Uᵣ, an m × r orthogonal matrix) and the corresponding columns of V (Vᵣ, an n × r orthogonal matrix);\n",
    "Take Aᵣ = Uᵣ Σᵣ Vᵣᵀ."
   ]
  },
  {
   "cell_type": "markdown",
   "metadata": {},
   "source": [
    "# Randomized Matrix Approximation\n",
    "\n",
    "here, we’ll focus on some modern randomized matrix approximation techniques, developed in (amongst others) in Finding structure with randomness: Probabilistic algorithms for constructing approximate matrix decompositions, a 2009 paper by Nathan Halko, Per-Gunnar Martinsson and Joel A. Tropp. \n",
    "https://arxiv.org/abs/0909.4061\n",
    "\n",
    "## 1. FBPCA package for randomized SVD\n",
    "This package is developed by facebook research.\n",
    "Relavant links:\n",
    "http://fbpca.readthedocs.io/en/latest/\n",
    "\n"
   ]
  },
  {
   "cell_type": "code",
   "execution_count": 2,
   "metadata": {},
   "outputs": [
    {
     "name": "stdout",
     "output_type": "stream",
     "text": [
      "CPU times: user 62.1 ms, sys: 21.9 ms, total: 83.9 ms\n",
      "Wall time: 103 ms\n",
      "[ 40.00001144  38.08315277  37.10234833  37.06640244  37.00000763\n",
      "  33.04753876  31.16459846  29.1289978   29.07105446  29.03992844\n",
      "  28.99998474  28.00000381  27.65703964  26.03939819  25.52819252\n",
      "  25.03122902  25.00000572  24.00005341  23.99998283  22.00000954\n",
      "  21.93363762  21.00001335  20.68578529  20.00000572  20.00000572\n",
      "  19.80418396  17.82784653  16.94734573  16.          15.99999428\n",
      "  14.92892456  13.00000191  11.99999332  11.95249748  11.00000381\n",
      "  10.99999619  10.00000668  10.00000286  10.           9.00000286\n",
      "   7.99999857   7.00000095   7.00000095   6.99999952   6.00000286   5.           4.\n",
      "   4.           3.96006298   1.        ]\n"
     ]
    }
   ],
   "source": [
    "# fbpca\n",
    "import fbpca \n",
    "%time sig_rsvd_fbpca = fbpca.pca(x,50,True)[1]\n",
    "eig_rsvd_fbpca = sig_rsvd_fbpca ** 2\n",
    "print (eig_rsvd_fbpca)\n"
   ]
  },
  {
   "cell_type": "markdown",
   "metadata": {},
   "source": [
    "Here is our own implementation of randomized SVD. After reduce the dimention, we use np.linalg.svd (the svd function in numpy) to conduct svd on a smaller scale matrix"
   ]
  },
  {
   "cell_type": "code",
   "execution_count": 3,
   "metadata": {},
   "outputs": [
    {
     "name": "stdout",
     "output_type": "stream",
     "text": [
      "CPU times: user 97.4 ms, sys: 27.7 ms, total: 125 ms\n",
      "Wall time: 94 ms\n",
      "[ 40.00001144  38.08315277  37.10234833  37.06640244  37.00000763\n",
      "  33.04753876  31.16459846  29.1289978   29.07105446  29.03992844\n",
      "  28.99998474  28.00000381  27.65703964  26.03939819  25.52819252\n",
      "  25.03122902  25.00000572  24.00005341  23.99998283  22.00000954\n",
      "  21.93363762  21.00001335  20.68578529  20.00000572  20.00000572\n",
      "  19.80418396  17.82784653  16.94734573  16.          15.99999428\n",
      "  14.92892456  13.00000191  11.99999332  11.95249748  11.00000381\n",
      "  10.99999619  10.00000668  10.00000286  10.           9.00000286\n",
      "   7.99999857   7.00000095   7.00000095   6.99999952   6.00000286   5.           4.\n",
      "   4.           3.96006298   1.        ]\n"
     ]
    }
   ],
   "source": [
    "#randomized SVD\n",
    "def randomized_svd(M, k=10):\n",
    "    m, n = M.shape\n",
    "    transpose = False\n",
    "    if m < n:\n",
    "        transpose = True\n",
    "        M = M.T\n",
    "        \n",
    "    rand_matrix = np.random.normal(size=(M.shape[1], k))  # short side by k\n",
    "    Q, _ = np.linalg.qr(M @ rand_matrix, mode='reduced')  # long side by k\n",
    "    smaller_matrix = Q.T @ M                              # k by short side\n",
    "    U_hat, s, V = np.linalg.svd(smaller_matrix, full_matrices=False)\n",
    "    U = Q @ U_hat\n",
    "    \n",
    "    if transpose:\n",
    "        return V.T, s.T, U.T\n",
    "    else:\n",
    "        return U, s, V\n",
    "    \n",
    "%time sig_rsvd = randomized_svd(x,50)[1]\n",
    "eig_rsvd = sig_rsvd_fbpca ** 2\n",
    "print (eig_rsvd)"
   ]
  },
  {
   "cell_type": "markdown",
   "metadata": {},
   "source": [
    "Also, we have scipy's function for computing eigen values for sparse matrix"
   ]
  },
  {
   "cell_type": "code",
   "execution_count": 4,
   "metadata": {},
   "outputs": [
    {
     "name": "stdout",
     "output_type": "stream",
     "text": [
      "CPU times: user 192 ms, sys: 8.32 ms, total: 201 ms\n",
      "Wall time: 116 ms\n",
      "[40.000004, 38.083111, 37.102303, 37.066376, 37.0, 33.047508, 31.164608, 29.128977, 29.071066, 29.039927, 28.999994, 27.999996, 27.657045, 26.039396, 25.5282, 25.031216, 24.999994, 24.000002, 23.999996, 21.999994, 21.933632, 21.000002, 20.685768, 20.0, 19.99999, 19.804171, 17.827816, 16.947344, 15.999999, 15.999992, 14.928935, 13.000005, 12.0, 11.952488, 11.000002, 10.999996, 10.000003, 10.000001, 9.999999, 9.0000029, 8.0000019, 7.0000081, 7.000001, 6.9999986, 6.0000091, 5.0000143, 4.0000048, 3.9999919, 3.9600658, 0.99999535]\n"
     ]
    }
   ],
   "source": [
    "\n",
    "#exact:\n",
    "from scipy import sparse\n",
    "import scipy.sparse.linalg as lg\n",
    "X_sparse = sparse.csr_matrix(x)\n",
    "X_T_sparse = sparse.csr_matrix.transpose(X_sparse)\n",
    "XX = X_sparse@X_T_sparse\n",
    "%time eig_exact = lg.eigsh(XX,k=50)\n",
    "eig_exact = eig_exact[0]\n",
    "eig_exact_sorted = sorted(eig_exact,reverse = True)\n",
    "print (eig_exact_sorted)\n"
   ]
  },
  {
   "cell_type": "markdown",
   "metadata": {},
   "source": [
    "# Comparsion of different methods\n",
    "Here, we compare the randomized SVD methods (approximate methods) to the exact methods (scipy's), in terms of computing time and accuracy."
   ]
  },
  {
   "cell_type": "markdown",
   "metadata": {},
   "source": [
    "#### compare approximate methods to exact method's eigenvalue"
   ]
  },
  {
   "cell_type": "code",
   "execution_count": 5,
   "metadata": {},
   "outputs": [
    {
     "name": "stdout",
     "output_type": "stream",
     "text": [
      "total error: \n",
      "0.000535845756531\n",
      "average error:\n",
      "1.07169151306e-05\n"
     ]
    }
   ],
   "source": [
    "# compare approximate methods to exact method's eigen\n",
    "eig_rsvd = list(eig_rsvd)\n",
    "\n",
    "total_error = 0\n",
    "for i in range(len(eig_rsvd)):\n",
    "    error = abs(eig_rsvd[i]-eig_exact_sorted[i])\n",
    "    total_error += error\n",
    "mean_error = total_error/len(eig_rsvd)\n",
    "print (\"total error: \")\n",
    "print (total_error)\n",
    "print (\"average error:\")\n",
    "print (mean_error)"
   ]
  },
  {
   "cell_type": "markdown",
   "metadata": {},
   "source": [
    "#### compute P-value, by Monte Carlo simulation, the distribution of Q"
   ]
  },
  {
   "cell_type": "code",
   "execution_count": 6,
   "metadata": {},
   "outputs": [
    {
     "name": "stdout",
     "output_type": "stream",
     "text": [
      "0.783431\n"
     ]
    },
    {
     "data": {
      "image/png": "[encoded data removed]",
      "text/plain": [
       "<matplotlib.figure.Figure at 0x10a6aa828>"
      ]
     },
     "metadata": {},
     "output_type": "display_data"
    }
   ],
   "source": [
    "# Monte Carlo, simulate the distribution of Q\n",
    "import matplotlib.pyplot as plt\n",
    "%matplotlib inline\n",
    "\n",
    "\n",
    "N = 1000000\n",
    "\n",
    "Q_distribution = []\n",
    "for i in range(N):\n",
    "    #generate 50 chi-square r.v\n",
    "    sample = np.random.chisquare(1, size=50)\n",
    "    Q_stat = np.sum(eig_exact * sample)/4\n",
    "    Q_distribution.append(Q_stat)\n",
    "    \n",
    "\n",
    "#print (Q_distribution)\n",
    "plt.hist(Q_distribution, bins = 30)\n",
    "q = 223.25\n",
    "def inverse_percentile(arr, num):\n",
    "    arr = sorted(arr)\n",
    "    i_arr = [i for i, x in enumerate(arr) if x > num]\n",
    "\n",
    "    return i_arr[0] / len(arr) if len(i_arr) > 0 else 1\n",
    "abs_Q_distribution = abs(Q_distribution - np.average(Q_distribution))\n",
    "q_abs = abs(q-np.average(Q_distribution))\n",
    "p = 1- inverse_percentile(abs_Q_distribution, q_abs)\n",
    "print (p)\n",
    "\n"
   ]
  },
  {
   "cell_type": "code",
   "execution_count": null,
   "metadata": {
    "collapsed": true
   },
   "outputs": [],
   "source": []
  },
  {
   "cell_type": "code",
   "execution_count": null,
   "metadata": {
    "collapsed": true
   },
   "outputs": [],
   "source": []
  },
  {
   "cell_type": "markdown",
   "metadata": {},
   "source": [
    "### benchmark, comparsion of computing time\n",
    "Here are our steps to compute the computing time, with different size of K*K matrix:\n",
    "1. generate 50 random eigen value according to N(real eigen value,0.1), accordingly.\n",
    "2. generate a random K*50, orthogonal matrix X, K >50, using the scipy function, scipy.linalg.orth\n",
    "3. compute $X \\Lambda  X^{T}$ , where $ \\Lambda  $ is the 50*50 diagonal matrix with 50 eigenvalues, accordingly.\n",
    "4. using  eigen methods on $X \\Lambda  X^{T}$, and the computing time, with average of 1000 times of computing for each K"
   ]
  },
  {
   "cell_type": "code",
   "execution_count": 7,
   "metadata": {},
   "outputs": [
    {
     "name": "stdout",
     "output_type": "stream",
     "text": [
      "[  0.99999535   3.96006584   3.99999189   4.00000477   5.00001431\n",
      "   6.00000906   6.99999857   7.00000095   7.00000811   8.00000191\n",
      "   9.00000286   9.99999905  10.00000095  10.00000286  10.99999619\n",
      "  11.00000191  11.95248795  12.          13.00000477  14.92893505\n",
      "  15.99999237  15.99999905  16.94734383  17.82781601  19.80417061\n",
      "  19.99999046  20.          20.68576813  21.00000191  21.9336319\n",
      "  21.99999428  23.99999619  24.00000191  24.99999428  25.03121567\n",
      "  25.52820015  26.03939629  27.65704536  27.99999619  28.99999428\n",
      "  29.03992653  29.0710659   29.12897682  31.164608    33.04750824  37.\n",
      "  37.06637573  37.10230255  38.08311081  40.00000381]\n",
      "[0.8970650922694253, 3.930756860682886, 3.898938587146752, 4.115430773978553, 5.167083694436353, 6.077913213862735, 7.017516974418416, 7.050260419531644, 7.120509816028977, 8.182196858303742, 9.184095561329507, 9.965059104211045, 10.10412585446388, 9.971426856716263, 11.023974841175853, 11.105399361693802, 11.909959046429817, 11.902092261772342, 12.833809641247012, 14.896077299837481, 16.072146142822433, 15.918973241100423, 16.88781743821761, 17.757574143871754, 19.735822534791453, 19.994235914559553, 20.021072314646084, 20.683868600290594, 21.255573424297772, 21.980475336236076, 21.94338108484243, 24.03584405832433, 24.020004894488416, 24.896372201714765, 25.029856750108834, 25.3792303694244, 26.147525031813647, 27.729077976738786, 28.091787243224235, 29.002802743072237, 29.07993694339314, 29.020004983045453, 29.029956602042162, 31.126374086657847, 33.13005128079903, 36.73137616185905, 36.85748037860721, 37.135718109284205, 38.15408169678579, 39.80951790442025]\n",
      "[[-0.08917846 -0.14721605  0.03740421 ..., -0.21278396  0.04075499\n",
      "   0.05343952]\n",
      " [-0.10023614 -0.08560316 -0.12965733 ...,  0.05218138 -0.16407035\n",
      "  -0.01782489]\n",
      " [-0.10176929 -0.08541737 -0.00054406 ..., -0.04960012  0.00366269\n",
      "  -0.0637906 ]\n",
      " ..., \n",
      " [-0.10393217  0.16043614  0.03204264 ...,  0.05049807 -0.01977561\n",
      "  -0.05071755]\n",
      " [-0.10476877 -0.14048051  0.0669758  ..., -0.00392733 -0.03679036\n",
      "   0.04199444]\n",
      " [-0.09106226  0.02062889 -0.08436326 ..., -0.16057054 -0.04542263\n",
      "  -0.01835669]]\n",
      "[[ 8.92647884 -1.63689672  1.39329559 ..., -0.04974579 -0.28777873\n",
      "   0.79735356]\n",
      " [-1.63689672  7.63137878  0.75888381 ...,  0.63594941 -0.26186686\n",
      "   0.64091812]\n",
      " [ 1.39329559  0.75888381  9.1283579  ..., -0.51023832 -0.11072207\n",
      "   2.72948859]\n",
      " ..., \n",
      " [-0.04974579  0.63594941 -0.51023832 ...,  7.76490503  0.16146273\n",
      "  -0.73402519]\n",
      " [-0.28777873 -0.26186686 -0.11072207 ...,  0.16146273  9.75802459\n",
      "  -0.13385832]\n",
      " [ 0.79735356  0.64091812  2.72948859 ..., -0.73402519 -0.13385832\n",
      "   6.39296956]]\n",
      "[  0.89706509   3.89893859   3.93075686   4.11543077   5.16708369\n",
      "   6.07791321   7.01751697   7.05026042   7.12050982   8.18219686\n",
      "   9.18409556   9.9650591    9.97142686  10.10412585  11.02397484\n",
      "  11.10539936  11.90209226  11.90995905  12.83380964  14.8960773\n",
      "  15.91897324  16.07214614  16.88781744  17.75757414  19.73582253\n",
      "  19.99423591  20.02107231  20.6838686   21.25557342  21.94338108\n",
      "  21.98047534  24.02000489  24.03584406  24.8963722   25.02985675\n",
      "  25.37923037  26.14752503  27.72907798  28.09178724  29.00280274\n",
      "  29.02000498  29.0299566   29.07993694  31.12637409  33.13005128\n",
      "  36.73137616  36.85748038  37.13571811  38.1540817   39.8095179 ]\n",
      "0.025285000000000224\n"
     ]
    }
   ],
   "source": [
    "\n",
    "#generate 50 random eigen value according to N(real eigen value,0.1)\n",
    "\n",
    "print (eig_exact)\n",
    "random_eigen = [0]*50\n",
    "for i in range(50):\n",
    "    random_eigen[i]= float(np.random.normal(eig_exact[i], 0.1, 1))\n",
    "print (random_eigen)\n",
    "\n",
    "#generate K*50, orthogonal matrix, K >50\n",
    "import scipy\n",
    "K = 100\n",
    "a = np.random.random(size=(K, 50))\n",
    "q = scipy.linalg.orth(a)\n",
    "print (q)\n",
    "I = np.identity(50)\n",
    "E = I*random_eigen\n",
    "M = q @ E @ q.T\n",
    "print (M)\n",
    "import time\n",
    "\n",
    "X_sparse = sparse.csr_matrix(q)\n",
    "X_T_sparse = sparse.csr_matrix.transpose(X_sparse)\n",
    "XX = X_sparse@E@X_T_sparse\n",
    "start_time = time.clock()\n",
    "eig_2 = lg.eigsh(XX,k=50)\n",
    "end_time = time.clock()\n",
    "eig_2 = eig_2[0]\n",
    "print (eig_2)\n",
    "print (end_time - start_time)"
   ]
  },
  {
   "cell_type": "code",
   "execution_count": null,
   "metadata": {
    "collapsed": true
   },
   "outputs": [],
   "source": [
    "# IRLB method"
   ]
  },
  {
   "cell_type": "code",
   "execution_count": 66,
   "metadata": {
    "collapsed": true
   },
   "outputs": [],
   "source": [
    "\n",
    "def mult(A,x,t=False):\n",
    "  if(sparse.issparse(A)):\n",
    "    m = A.shape[0]\n",
    "    n = A.shape[1]\n",
    "    if(t):\n",
    "      return(sparse.csr_matrix(x).dot(A).transpose().todense().A[:,0])\n",
    "    return(A.dot(sparse.csr_matrix(x).transpose()).todense().A[:,0])\n",
    "  if(t):\n",
    "    return(x.dot(A))\n",
    "  return(A.dot(x))\n",
    "\n",
    "def orthog(Y,X):\n",
    "  dotY = mult(X,Y,t=True)\n",
    "  return (Y - mult(X,dotY))\n",
    "\n",
    "\n",
    "def invcheck(x):\n",
    "  eps2  = 2*np.finfo(np.float).eps\n",
    "  if(x>eps2):\n",
    "    x = 1/x\n",
    "  else:\n",
    "    x = 0\n",
    "  return(x)\n",
    "\n",
    "def irlb(A,n,tol=0.0001,maxit=50):\n",
    "  nu     = n\n",
    "  m      = A.shape[0]\n",
    "  n      = A.shape[1]\n",
    "  m_b    = min((nu+20, 3*nu, n))\n",
    "  mprod  = 0\n",
    "  it     = 0\n",
    "  j      = 0\n",
    "  k      = nu\n",
    "  smax   = 1\n",
    "  ifsparse = sparse.issparse(A)\n",
    "\n",
    "  V  = np.zeros((n,m_b))\n",
    "  W  = np.zeros((m,m_b))\n",
    "  F  = np.zeros((n,1))\n",
    "  B  = np.zeros((m_b,m_b))\n",
    "\n",
    "  V[:,0]  = np.random.randn(n)\n",
    "  V[:,0]  = V[:,0]/np.linalg.norm(V)\n",
    "\n",
    "  while(it < maxit):\n",
    "    if(it>0): j=k\n",
    "    W[:,j] = mult(A,V[:,j])\n",
    "    mprod+=1\n",
    "    if(it>0):\n",
    "      W[:,j] = orthog(W[:,j],W[:,0:j]) # NB W[:,0:j] selects columns 0,1,...,j-1\n",
    "    s = np.linalg.norm(W[:,j])\n",
    "    sinv = invcheck(s)\n",
    "    W[:,j] = sinv*W[:,j]\n",
    "    while(j<m_b):\n",
    "      F = mult(A,W[:,j],t=True)\n",
    "      mprod+=1\n",
    "      F = F - s*V[:,j]\n",
    "      F = orthog(F,V[:,0:j+1])\n",
    "      fn = np.linalg.norm(F)\n",
    "      fninv= invcheck(fn)\n",
    "      F  = fninv * F\n",
    "      if(j<m_b-1):\n",
    "        V[:,j+1] = F\n",
    "        B[j,j] = s\n",
    "        B[j,j+1] = fn \n",
    "        W[:,j+1] = mult(A,V[:,j+1])\n",
    "        mprod+=1\n",
    "        W[:,j+1] = W[:,j+1] - fn*W[:,j]\n",
    "        W[:,j+1] = orthog(W[:,j+1],W[:,0:(j+1)])\n",
    "        s = np.linalg.norm(W[:,j+1])\n",
    "        sinv = invcheck(s) \n",
    "        W[:,j+1] = sinv * W[:,j+1]\n",
    "      else:\n",
    "        B[j,j] = s\n",
    "      j+=1\n",
    "    S    = np.linalg.svd(B)\n",
    "    R    = fn * S[0][m_b-1,:] \n",
    "    if(it<1):\n",
    "      smax = S[1][0]\n",
    "    else:\n",
    "      smax = max((S[1][0],smax))\n",
    "\n",
    "    conv = sum(np.abs(R[0:nu]) < tol*smax)\n",
    "    if(conv < nu):\n",
    "      k = max(conv+nu,k)\n",
    "      k = min(k,m_b-3)\n",
    "    else:\n",
    "      break\n",
    "    V[:,0:k] = V[:,0:m_b].dot(S[2].transpose()[:,0:k])\n",
    "    V[:,k] = F \n",
    "    B = np.zeros((m_b,m_b))\n",
    "    for l in range(0,k):\n",
    "      B[l,l] = S[1][l]\n",
    "    B[0:k,k] = R[0:k]\n",
    "    W[:,0:k] = W[:,0:m_b].dot(S[0][:,0:k])\n",
    "    it+=1\n",
    "\n",
    "  U = W[:,0:m_b].dot(S[0][:,0:nu])\n",
    "  V = V[:,0:m_b].dot(S[2].transpose()[:,0:nu])\n",
    "  return((U,S[1][0:nu],V,it,mprod))"
   ]
  },
  {
   "cell_type": "markdown",
   "metadata": {},
   "source": [
    "Here are the functions to test average running time for computing eigenvalues for different methods"
   ]
  },
  {
   "cell_type": "code",
   "execution_count": 75,
   "metadata": {
    "collapsed": true
   },
   "outputs": [],
   "source": [
    "# function to test average running time for computing eigen\n",
    "#function 1, testing the computing time of scipy function\n",
    "\n",
    "M = 100\n",
    "\n",
    "def test_eigen_1(K):\n",
    "    random_eigen = [0]*50\n",
    "    for i in range(50):\n",
    "        random_eigen[i]= float(np.random.normal(eig_exact[i], 0.1, 1))\n",
    "    a = np.random.random(size=(K, 50))\n",
    "    q = scipy.linalg.orth(a)\n",
    "    I = np.identity(50)\n",
    "    E = I*random_eigen\n",
    "    M = q @ E @ q.T\n",
    "    X_sparse = sparse.csr_matrix(q)\n",
    "    X_T_sparse = sparse.csr_matrix.transpose(X_sparse)\n",
    "    XX = X_sparse@E@X_T_sparse\n",
    "    time_list = []\n",
    "    for j in range(M):\n",
    "        start_time = time.clock()\n",
    "        eig_2 = lg.eigsh(XX,k=50)\n",
    "        end_time = time.clock()\n",
    "        time_list.append(end_time-start_time)\n",
    "    average_time = sum(time_list)/M\n",
    "    #eig_2 = eig_2[0]\n",
    "    return average_time\n",
    "    \n",
    "\n",
    "    \n"
   ]
  },
  {
   "cell_type": "code",
   "execution_count": 76,
   "metadata": {
    "collapsed": true
   },
   "outputs": [],
   "source": [
    "#function 2, testing the computing time of randomized SVD function\n",
    "\n",
    "\n",
    "\n",
    "\n",
    "def test_rsvd_2(K):\n",
    "    random_eigen = [0]*50\n",
    "    for i in range(50):\n",
    "        random_eigen[i]= float(np.random.normal(eig_exact[i], 0.1, 1))\n",
    "    a = np.random.random(size=(K, 50))\n",
    "    q = scipy.linalg.orth(a)\n",
    "    I = np.identity(50)\n",
    "    E = I*np.sqrt(random_eigen)\n",
    "    X_sparse = sparse.csr_matrix(q)   \n",
    "    XX = X_sparse@E\n",
    "    time_list = []\n",
    "    for j in range(M):\n",
    "        start_time = time.clock()\n",
    "        eig_2 = randomized_svd(XX,50)\n",
    "        end_time = time.clock()\n",
    "        time_list.append(end_time-start_time)\n",
    "    average_time = sum(time_list)/M\n",
    "    #eig_2 = eig_2[0]\n",
    "    return average_time\n",
    "\n",
    "\n",
    "\n",
    "#test fbpca\n",
    "def test_rsvd_3(K):\n",
    "    random_eigen = [0]*50\n",
    "    for i in range(50):\n",
    "        random_eigen[i]= float(np.random.normal(eig_exact[i], 0.1, 1))\n",
    "    a = np.random.random(size=(K, 50))\n",
    "    q = scipy.linalg.orth(a)\n",
    "    I = np.identity(50)\n",
    "    E = I*np.sqrt(random_eigen)\n",
    "    X = q  \n",
    "    XX = X@E\n",
    "    time_list = []\n",
    "    for j in range(M):\n",
    "        start_time = time.clock()\n",
    "        eig_2 =  sig_rsvd_fbpca(XX,50,True)\n",
    "        end_time = time.clock()\n",
    "        time_list.append(end_time-start_time)\n",
    "    average_time = sum(time_list)/M\n",
    "    #eig_2 = eig_2[0]\n",
    "    return average_time\n",
    "\n",
    "#test sparse, scipy.sparse.linalg.eigsh\n",
    "def test_rsvd_4(K):\n",
    "    random_eigen = [0]*50\n",
    "    for i in range(50):\n",
    "        random_eigen[i]= float(np.random.normal(eig_exact[i], 0.1, 1))\n",
    "    a = np.random.random(size=(K, 50))\n",
    "    q = scipy.linalg.orth(a)\n",
    "    I = np.identity(50)\n",
    "    E = I*np.sqrt(random_eigen)\n",
    "    X_sparse = sparse.csr_matrix(q) \n",
    "    X_T_sparse = sparse.csr_matrix.transpose(X_sparse)\n",
    "    XX = X_sparse@E@X_T_sparse\n",
    "    time_list = []\n",
    "    for j in range(M):\n",
    "        start_time = time.clock()\n",
    "        eig_2 = lg.eigsh(XX,k=50)\n",
    "        end_time = time.clock()\n",
    "        time_list.append(end_time-start_time)\n",
    "    average_time = sum(time_list)/M\n",
    "    #eig_2 = eig_2[0]\n",
    "    return average_time\n",
    "\n",
    "\n"
   ]
  },
  {
   "cell_type": "code",
   "execution_count": 77,
   "metadata": {
    "collapsed": true
   },
   "outputs": [],
   "source": [
    "# IRLB method\n",
    "def test_rsvd_5(K):\n",
    "    random_eigen = [0]*50\n",
    "    for i in range(50):\n",
    "        random_eigen[i]= float(np.random.normal(eig_exact[i], 0.1, 1))\n",
    "    a = np.random.random(size=(K, 50))\n",
    "    q = scipy.linalg.orth(a)\n",
    "    I = np.identity(50)\n",
    "    E = I*np.sqrt(random_eigen)\n",
    "    X_sparse = sparse.csr_matrix(q)   \n",
    "    XX = X_sparse@E\n",
    "    time_list = []\n",
    "    for j in range(M):\n",
    "        start_time = time.clock()\n",
    "        eig_2 = irlb(X, 50)\n",
    "        end_time = time.clock()\n",
    "        time_list.append(end_time-start_time)\n",
    "    average_time = sum(time_list)/M\n",
    "    #eig_2 = eig_2[0]\n",
    "    return average_time\n",
    "\n"
   ]
  },
  {
   "cell_type": "code",
   "execution_count": null,
   "metadata": {
    "collapsed": true
   },
   "outputs": [],
   "source": []
  },
  {
   "cell_type": "code",
   "execution_count": 78,
   "metadata": {},
   "outputs": [
    {
     "name": "stdout",
     "output_type": "stream",
     "text": [
      "[0.0016892979999998375, 0.0017440440000002014, 0.002064002000000073, 0.0028422709999988455, 0.002415309999999124, 0.0024760790000004818, 0.0024732720000014865, 0.002737610999999447]\n"
     ]
    }
   ],
   "source": [
    "#computational time\n",
    "\n",
    "\n",
    "#print (test_eigen_1(1000))\n",
    "#compute list of runing time vs. K\n",
    "k_list = range(100,5000,500)\n",
    "#time_list = [test_rsvd_1(k)[0] for k in k_list]\n",
    "print (time_list)\n",
    "\n"
   ]
  },
  {
   "cell_type": "code",
   "execution_count": 79,
   "metadata": {},
   "outputs": [
    {
     "ename": "KeyboardInterrupt",
     "evalue": "",
     "output_type": "error",
     "traceback": [
      "\u001b[0;31m---------------------------------------------------------------------------\u001b[0m",
      "\u001b[0;31mKeyboardInterrupt\u001b[0m                         Traceback (most recent call last)",
      "\u001b[0;32m<ipython-input-79-00d97657a0be>\u001b[0m in \u001b[0;36m<module>\u001b[0;34m()\u001b[0m\n\u001b[1;32m      2\u001b[0m \u001b[0mtime_list2\u001b[0m \u001b[0;34m=\u001b[0m \u001b[0;34m[\u001b[0m\u001b[0mtest_rsvd_2\u001b[0m\u001b[0;34m(\u001b[0m\u001b[0mk\u001b[0m\u001b[0;34m)\u001b[0m \u001b[0;32mfor\u001b[0m \u001b[0mk\u001b[0m \u001b[0;32min\u001b[0m \u001b[0mk_list\u001b[0m\u001b[0;34m]\u001b[0m\u001b[0;34m\u001b[0m\u001b[0m\n\u001b[1;32m      3\u001b[0m \u001b[0;31m#time_list3 = [test_rsvd_3(k) for k in k_list]\u001b[0m\u001b[0;34m\u001b[0m\u001b[0;34m\u001b[0m\u001b[0m\n\u001b[0;32m----> 4\u001b[0;31m \u001b[0mtime_list4\u001b[0m \u001b[0;34m=\u001b[0m \u001b[0;34m[\u001b[0m\u001b[0mtest_rsvd_4\u001b[0m\u001b[0;34m(\u001b[0m\u001b[0mk\u001b[0m\u001b[0;34m)\u001b[0m \u001b[0;32mfor\u001b[0m \u001b[0mk\u001b[0m \u001b[0;32min\u001b[0m \u001b[0mk_list\u001b[0m\u001b[0;34m]\u001b[0m\u001b[0;34m\u001b[0m\u001b[0m\n\u001b[0m",
      "\u001b[0;32m<ipython-input-79-00d97657a0be>\u001b[0m in \u001b[0;36m<listcomp>\u001b[0;34m(.0)\u001b[0m\n\u001b[1;32m      2\u001b[0m \u001b[0mtime_list2\u001b[0m \u001b[0;34m=\u001b[0m \u001b[0;34m[\u001b[0m\u001b[0mtest_rsvd_2\u001b[0m\u001b[0;34m(\u001b[0m\u001b[0mk\u001b[0m\u001b[0;34m)\u001b[0m \u001b[0;32mfor\u001b[0m \u001b[0mk\u001b[0m \u001b[0;32min\u001b[0m \u001b[0mk_list\u001b[0m\u001b[0;34m]\u001b[0m\u001b[0;34m\u001b[0m\u001b[0m\n\u001b[1;32m      3\u001b[0m \u001b[0;31m#time_list3 = [test_rsvd_3(k) for k in k_list]\u001b[0m\u001b[0;34m\u001b[0m\u001b[0;34m\u001b[0m\u001b[0m\n\u001b[0;32m----> 4\u001b[0;31m \u001b[0mtime_list4\u001b[0m \u001b[0;34m=\u001b[0m \u001b[0;34m[\u001b[0m\u001b[0mtest_rsvd_4\u001b[0m\u001b[0;34m(\u001b[0m\u001b[0mk\u001b[0m\u001b[0;34m)\u001b[0m \u001b[0;32mfor\u001b[0m \u001b[0mk\u001b[0m \u001b[0;32min\u001b[0m \u001b[0mk_list\u001b[0m\u001b[0;34m]\u001b[0m\u001b[0;34m\u001b[0m\u001b[0m\n\u001b[0m",
      "\u001b[0;32m<ipython-input-76-884bca591dee>\u001b[0m in \u001b[0;36mtest_rsvd_4\u001b[0;34m(K)\u001b[0m\n\u001b[1;32m     62\u001b[0m     \u001b[0;32mfor\u001b[0m \u001b[0mj\u001b[0m \u001b[0;32min\u001b[0m \u001b[0mrange\u001b[0m\u001b[0;34m(\u001b[0m\u001b[0mM\u001b[0m\u001b[0;34m)\u001b[0m\u001b[0;34m:\u001b[0m\u001b[0;34m\u001b[0m\u001b[0m\n\u001b[1;32m     63\u001b[0m         \u001b[0mstart_time\u001b[0m \u001b[0;34m=\u001b[0m \u001b[0mtime\u001b[0m\u001b[0;34m.\u001b[0m\u001b[0mclock\u001b[0m\u001b[0;34m(\u001b[0m\u001b[0;34m)\u001b[0m\u001b[0;34m\u001b[0m\u001b[0m\n\u001b[0;32m---> 64\u001b[0;31m         \u001b[0meig_2\u001b[0m \u001b[0;34m=\u001b[0m \u001b[0mlg\u001b[0m\u001b[0;34m.\u001b[0m\u001b[0meigsh\u001b[0m\u001b[0;34m(\u001b[0m\u001b[0mXX\u001b[0m\u001b[0;34m,\u001b[0m\u001b[0mk\u001b[0m\u001b[0;34m=\u001b[0m\u001b[0;36m50\u001b[0m\u001b[0;34m)\u001b[0m\u001b[0;34m\u001b[0m\u001b[0m\n\u001b[0m\u001b[1;32m     65\u001b[0m         \u001b[0mend_time\u001b[0m \u001b[0;34m=\u001b[0m \u001b[0mtime\u001b[0m\u001b[0;34m.\u001b[0m\u001b[0mclock\u001b[0m\u001b[0;34m(\u001b[0m\u001b[0;34m)\u001b[0m\u001b[0;34m\u001b[0m\u001b[0m\n\u001b[1;32m     66\u001b[0m         \u001b[0mtime_list\u001b[0m\u001b[0;34m.\u001b[0m\u001b[0mappend\u001b[0m\u001b[0;34m(\u001b[0m\u001b[0mend_time\u001b[0m\u001b[0;34m-\u001b[0m\u001b[0mstart_time\u001b[0m\u001b[0;34m)\u001b[0m\u001b[0;34m\u001b[0m\u001b[0m\n",
      "\u001b[0;32m/anaconda/envs/py3/lib/python3.6/site-packages/scipy/sparse/linalg/eigen/arpack/arpack.py\u001b[0m in \u001b[0;36meigsh\u001b[0;34m(A, k, M, sigma, which, v0, ncv, maxiter, tol, return_eigenvectors, Minv, OPinv, mode)\u001b[0m\n\u001b[1;32m   1603\u001b[0m     \u001b[0;32mwith\u001b[0m \u001b[0m_ARPACK_LOCK\u001b[0m\u001b[0;34m:\u001b[0m\u001b[0;34m\u001b[0m\u001b[0m\n\u001b[1;32m   1604\u001b[0m         \u001b[0;32mwhile\u001b[0m \u001b[0;32mnot\u001b[0m \u001b[0mparams\u001b[0m\u001b[0;34m.\u001b[0m\u001b[0mconverged\u001b[0m\u001b[0;34m:\u001b[0m\u001b[0;34m\u001b[0m\u001b[0m\n\u001b[0;32m-> 1605\u001b[0;31m             \u001b[0mparams\u001b[0m\u001b[0;34m.\u001b[0m\u001b[0miterate\u001b[0m\u001b[0;34m(\u001b[0m\u001b[0;34m)\u001b[0m\u001b[0;34m\u001b[0m\u001b[0m\n\u001b[0m\u001b[1;32m   1606\u001b[0m \u001b[0;34m\u001b[0m\u001b[0m\n\u001b[1;32m   1607\u001b[0m         \u001b[0;32mreturn\u001b[0m \u001b[0mparams\u001b[0m\u001b[0;34m.\u001b[0m\u001b[0mextract\u001b[0m\u001b[0;34m(\u001b[0m\u001b[0mreturn_eigenvectors\u001b[0m\u001b[0;34m)\u001b[0m\u001b[0;34m\u001b[0m\u001b[0m\n",
      "\u001b[0;32m/anaconda/envs/py3/lib/python3.6/site-packages/scipy/sparse/linalg/eigen/arpack/arpack.py\u001b[0m in \u001b[0;36miterate\u001b[0;34m(self)\u001b[0m\n\u001b[1;32m    545\u001b[0m             \u001b[0;31m# compute y = Op*x\u001b[0m\u001b[0;34m\u001b[0m\u001b[0;34m\u001b[0m\u001b[0m\n\u001b[1;32m    546\u001b[0m             \u001b[0;32mif\u001b[0m \u001b[0mself\u001b[0m\u001b[0;34m.\u001b[0m\u001b[0mmode\u001b[0m \u001b[0;34m==\u001b[0m \u001b[0;36m1\u001b[0m\u001b[0;34m:\u001b[0m\u001b[0;34m\u001b[0m\u001b[0m\n\u001b[0;32m--> 547\u001b[0;31m                 \u001b[0mself\u001b[0m\u001b[0;34m.\u001b[0m\u001b[0mworkd\u001b[0m\u001b[0;34m[\u001b[0m\u001b[0myslice\u001b[0m\u001b[0;34m]\u001b[0m \u001b[0;34m=\u001b[0m \u001b[0mself\u001b[0m\u001b[0;34m.\u001b[0m\u001b[0mOP\u001b[0m\u001b[0;34m(\u001b[0m\u001b[0mself\u001b[0m\u001b[0;34m.\u001b[0m\u001b[0mworkd\u001b[0m\u001b[0;34m[\u001b[0m\u001b[0mxslice\u001b[0m\u001b[0;34m]\u001b[0m\u001b[0;34m)\u001b[0m\u001b[0;34m\u001b[0m\u001b[0m\n\u001b[0m\u001b[1;32m    548\u001b[0m             \u001b[0;32melif\u001b[0m \u001b[0mself\u001b[0m\u001b[0;34m.\u001b[0m\u001b[0mmode\u001b[0m \u001b[0;34m==\u001b[0m \u001b[0;36m2\u001b[0m\u001b[0;34m:\u001b[0m\u001b[0;34m\u001b[0m\u001b[0m\n\u001b[1;32m    549\u001b[0m                 \u001b[0mself\u001b[0m\u001b[0;34m.\u001b[0m\u001b[0mworkd\u001b[0m\u001b[0;34m[\u001b[0m\u001b[0mxslice\u001b[0m\u001b[0;34m]\u001b[0m \u001b[0;34m=\u001b[0m \u001b[0mself\u001b[0m\u001b[0;34m.\u001b[0m\u001b[0mOPb\u001b[0m\u001b[0;34m(\u001b[0m\u001b[0mself\u001b[0m\u001b[0;34m.\u001b[0m\u001b[0mworkd\u001b[0m\u001b[0;34m[\u001b[0m\u001b[0mxslice\u001b[0m\u001b[0;34m]\u001b[0m\u001b[0;34m)\u001b[0m\u001b[0;34m\u001b[0m\u001b[0m\n",
      "\u001b[0;32m/anaconda/envs/py3/lib/python3.6/site-packages/scipy/sparse/linalg/interface.py\u001b[0m in \u001b[0;36mmatvec\u001b[0;34m(self, x)\u001b[0m\n\u001b[1;32m    217\u001b[0m             \u001b[0;32mraise\u001b[0m \u001b[0mValueError\u001b[0m\u001b[0;34m(\u001b[0m\u001b[0;34m'dimension mismatch'\u001b[0m\u001b[0;34m)\u001b[0m\u001b[0;34m\u001b[0m\u001b[0m\n\u001b[1;32m    218\u001b[0m \u001b[0;34m\u001b[0m\u001b[0m\n\u001b[0;32m--> 219\u001b[0;31m         \u001b[0my\u001b[0m \u001b[0;34m=\u001b[0m \u001b[0mself\u001b[0m\u001b[0;34m.\u001b[0m\u001b[0m_matvec\u001b[0m\u001b[0;34m(\u001b[0m\u001b[0mx\u001b[0m\u001b[0;34m)\u001b[0m\u001b[0;34m\u001b[0m\u001b[0m\n\u001b[0m\u001b[1;32m    220\u001b[0m \u001b[0;34m\u001b[0m\u001b[0m\n\u001b[1;32m    221\u001b[0m         \u001b[0;32mif\u001b[0m \u001b[0misinstance\u001b[0m\u001b[0;34m(\u001b[0m\u001b[0mx\u001b[0m\u001b[0;34m,\u001b[0m \u001b[0mnp\u001b[0m\u001b[0;34m.\u001b[0m\u001b[0mmatrix\u001b[0m\u001b[0;34m)\u001b[0m\u001b[0;34m:\u001b[0m\u001b[0;34m\u001b[0m\u001b[0m\n",
      "\u001b[0;32m/anaconda/envs/py3/lib/python3.6/site-packages/scipy/sparse/linalg/interface.py\u001b[0m in \u001b[0;36m_matvec\u001b[0;34m(self, x)\u001b[0m\n\u001b[1;32m    184\u001b[0m         \u001b[0mwill\u001b[0m \u001b[0mdefine\u001b[0m \u001b[0mmatrix\u001b[0m\u001b[0;34m-\u001b[0m\u001b[0mvector\u001b[0m \u001b[0mmultiplication\u001b[0m \u001b[0;32mas\u001b[0m \u001b[0mwell\u001b[0m\u001b[0;34m.\u001b[0m\u001b[0;34m\u001b[0m\u001b[0m\n\u001b[1;32m    185\u001b[0m         \"\"\"\n\u001b[0;32m--> 186\u001b[0;31m         \u001b[0;32mreturn\u001b[0m \u001b[0mself\u001b[0m\u001b[0;34m.\u001b[0m\u001b[0mmatmat\u001b[0m\u001b[0;34m(\u001b[0m\u001b[0mx\u001b[0m\u001b[0;34m.\u001b[0m\u001b[0mreshape\u001b[0m\u001b[0;34m(\u001b[0m\u001b[0;34m-\u001b[0m\u001b[0;36m1\u001b[0m\u001b[0;34m,\u001b[0m \u001b[0;36m1\u001b[0m\u001b[0;34m)\u001b[0m\u001b[0;34m)\u001b[0m\u001b[0;34m\u001b[0m\u001b[0m\n\u001b[0m\u001b[1;32m    187\u001b[0m \u001b[0;34m\u001b[0m\u001b[0m\n\u001b[1;32m    188\u001b[0m     \u001b[0;32mdef\u001b[0m \u001b[0mmatvec\u001b[0m\u001b[0;34m(\u001b[0m\u001b[0mself\u001b[0m\u001b[0;34m,\u001b[0m \u001b[0mx\u001b[0m\u001b[0;34m)\u001b[0m\u001b[0;34m:\u001b[0m\u001b[0;34m\u001b[0m\u001b[0m\n",
      "\u001b[0;32m/anaconda/envs/py3/lib/python3.6/site-packages/scipy/sparse/linalg/interface.py\u001b[0m in \u001b[0;36mmatmat\u001b[0;34m(self, X)\u001b[0m\n\u001b[1;32m    324\u001b[0m                              % (self.shape, X.shape))\n\u001b[1;32m    325\u001b[0m \u001b[0;34m\u001b[0m\u001b[0m\n\u001b[0;32m--> 326\u001b[0;31m         \u001b[0mY\u001b[0m \u001b[0;34m=\u001b[0m \u001b[0mself\u001b[0m\u001b[0;34m.\u001b[0m\u001b[0m_matmat\u001b[0m\u001b[0;34m(\u001b[0m\u001b[0mX\u001b[0m\u001b[0;34m)\u001b[0m\u001b[0;34m\u001b[0m\u001b[0m\n\u001b[0m\u001b[1;32m    327\u001b[0m \u001b[0;34m\u001b[0m\u001b[0m\n\u001b[1;32m    328\u001b[0m         \u001b[0;32mif\u001b[0m \u001b[0misinstance\u001b[0m\u001b[0;34m(\u001b[0m\u001b[0mY\u001b[0m\u001b[0;34m,\u001b[0m \u001b[0mnp\u001b[0m\u001b[0;34m.\u001b[0m\u001b[0mmatrix\u001b[0m\u001b[0;34m)\u001b[0m\u001b[0;34m:\u001b[0m\u001b[0;34m\u001b[0m\u001b[0m\n",
      "\u001b[0;32m/anaconda/envs/py3/lib/python3.6/site-packages/scipy/sparse/linalg/interface.py\u001b[0m in \u001b[0;36m_matmat\u001b[0;34m(self, X)\u001b[0m\n\u001b[1;32m    608\u001b[0m \u001b[0;34m\u001b[0m\u001b[0m\n\u001b[1;32m    609\u001b[0m     \u001b[0;32mdef\u001b[0m \u001b[0m_matmat\u001b[0m\u001b[0;34m(\u001b[0m\u001b[0mself\u001b[0m\u001b[0;34m,\u001b[0m \u001b[0mX\u001b[0m\u001b[0;34m)\u001b[0m\u001b[0;34m:\u001b[0m\u001b[0;34m\u001b[0m\u001b[0m\n\u001b[0;32m--> 610\u001b[0;31m         \u001b[0;32mreturn\u001b[0m \u001b[0mself\u001b[0m\u001b[0;34m.\u001b[0m\u001b[0mA\u001b[0m\u001b[0;34m.\u001b[0m\u001b[0mdot\u001b[0m\u001b[0;34m(\u001b[0m\u001b[0mX\u001b[0m\u001b[0;34m)\u001b[0m\u001b[0;34m\u001b[0m\u001b[0m\n\u001b[0m\u001b[1;32m    611\u001b[0m \u001b[0;34m\u001b[0m\u001b[0m\n\u001b[1;32m    612\u001b[0m     \u001b[0;32mdef\u001b[0m \u001b[0m_adjoint\u001b[0m\u001b[0;34m(\u001b[0m\u001b[0mself\u001b[0m\u001b[0;34m)\u001b[0m\u001b[0;34m:\u001b[0m\u001b[0;34m\u001b[0m\u001b[0m\n",
      "\u001b[0;31mKeyboardInterrupt\u001b[0m: "
     ]
    }
   ],
   "source": [
    "\n",
    "time_list2 = [test_rsvd_2(k) for k in k_list]\n",
    "#time_list3 = [test_rsvd_3(k) for k in k_list]\n",
    "time_list4 = [test_rsvd_4(k) for k in k_list]\n"
   ]
  },
  {
   "cell_type": "code",
   "execution_count": null,
   "metadata": {
    "collapsed": true
   },
   "outputs": [],
   "source": [
    "time_list5 = [test_rsvd_5(k) for k in k_list]"
   ]
  },
  {
   "cell_type": "code",
   "execution_count": null,
   "metadata": {
    "collapsed": true
   },
   "outputs": [],
   "source": [
    "import matplotlib.pyplot as plt\n",
    "#plt.plot(k_list, time_list, '-')\n",
    "plt.plot(k_list, time_list2, '-')\n",
    "#plt.plot(k_list, time_list3, '-')\n",
    "plt.plot(k_list, time_list4, '-')\n",
    "plt.plot(k_list, time_list5, '-')\n",
    "plt.legend([ 'randomized SVD', 'scipy.sparse.linalg.eigsh',\"IRLB method (SVD)\"], loc='upper left')\n",
    "plt.show()\n",
    "\n"
   ]
  },
  {
   "cell_type": "code",
   "execution_count": null,
   "metadata": {
    "collapsed": true
   },
   "outputs": [],
   "source": []
  },
  {
   "cell_type": "code",
   "execution_count": null,
   "metadata": {
    "collapsed": true
   },
   "outputs": [],
   "source": []
  },
  {
   "cell_type": "code",
   "execution_count": null,
   "metadata": {
    "collapsed": true
   },
   "outputs": [],
   "source": []
  },
  {
   "cell_type": "code",
   "execution_count": null,
   "metadata": {
    "collapsed": true
   },
   "outputs": [],
   "source": [
    "#stability\n"
   ]
  },
  {
   "cell_type": "code",
   "execution_count": null,
   "metadata": {
    "collapsed": true
   },
   "outputs": [],
   "source": [
    "# Appendix"
   ]
  },
  {
   "cell_type": "markdown",
   "metadata": {
    "collapsed": true
   },
   "source": [
    "#### Process behind Randomized SVD"
   ]
  },
  {
   "cell_type": "markdown",
   "metadata": {
    "collapsed": true
   },
   "source": [
    "Here is a process to calculate a truncated SVD, described in [Finding Structure with Randomness: Probabilistic Algorithms for Constructing Approximate Matrix Decompositions](https://arxiv.org/pdf/0909.4061.pdf) and [summarized in this blog post](https://research.fb.com/fast-randomized-svd/):\n",
    "\n",
    "1\\. Compute an approximation to the range of $A$. That is, we want $Q$ with $r$ orthonormal columns such that $$A \\approx QQ^TA$$\n",
    "\n",
    "\n",
    "2\\. Construct $B = Q^T A$, which is small ($r\\times n$)\n",
    "\n",
    "\n",
    "3\\. Compute the SVD of $B$ by standard methods (fast since $B$ is smaller than $A$), $B = S\\,\\Sigma V^T$\n",
    "\n",
    "4\\. Since $$ A \\approx Q Q^T A = Q (S\\,\\Sigma V^T)$$ if we set $U = QS$, then we have a low rank approximation $A \\approx U \\Sigma V^T$."
   ]
  },
  {
   "cell_type": "markdown",
   "metadata": {},
   "source": [
    "#### So how do we find $Q$ (in step 1)?"
   ]
  },
  {
   "cell_type": "markdown",
   "metadata": {},
   "source": [
    "To estimate the range of $A$, we can just take a bunch of random vectors $w_i$, evaluate the subspace formed by $Aw_i$.  We can form a matrix $W$ with the $w_i$ as it's columns.  Now, we take the QR decomposition of $AW = QR$, then the columns of $Q$ form an orthonormal basis for $AW$, which is the range of $A$.\n",
    "\n",
    "Since the matrix $AW$ of the product has far more rows than columns and therefore, approximately, orthonormal columns. This is simple probability - with lots of rows, and few columns, it's unlikely that the columns are linearly dependent."
   ]
  },
  {
   "cell_type": "markdown",
   "metadata": {},
   "source": [
    "#### Why M ~ Q Q.T M"
   ]
  },
  {
   "cell_type": "markdown",
   "metadata": {},
   "source": [
    "We are trying to find a matrix Q such that $M \\approx Q Q^T M$.  We are interested in the range of $M$, let's call this $MX$.  $Q$ has orthonormal columns so $Q^TQ = I$ (but $QQ^T$ isn't $I$, since $Q$ is rectangular)\n",
    "\n",
    "$$ QR = MX $$\n",
    "$$ QQ^TQR = QQ^TMX $$\n",
    "$$ QR = QQ^TMX $$\n",
    "so...\n",
    "$$ MX = QQ^TMX $$\n",
    "\n",
    "If $X$ is the identity, we'd be done (but then $X$ would be too big, and we wouldn't get the speed up we're looking for).  In our problem, $X$ is just a small random matrix.  The Johnson-Lindenstrauss Lemma provides some justification of why this works."
   ]
  },
  {
   "cell_type": "markdown",
   "metadata": {},
   "source": [
    "#### The QR Decomposition"
   ]
  },
  {
   "cell_type": "markdown",
   "metadata": {},
   "source": [
    "We will be learning about the QR decomposition **in depth** later on.  For now, you just need to know that $A = QR$, where $Q$ consists of orthonormal columns, and $R$ is upper triangular.  Trefethen says that the QR decomposition is the most important idea in numerical linear algebra!  We will definitely be returning to it."
   ]
  },
  {
   "cell_type": "markdown",
   "metadata": {},
   "source": [
    "#### How should we choose $r$?"
   ]
  },
  {
   "cell_type": "markdown",
   "metadata": {},
   "source": [
    "Suppose our matrix has 100 columns, and we want 5 columns in U and V. To be safe, we should project our matrix onto an orthogonal basis with a few more rows and columns than 5 (let's use 15).  At the end, we will just grab the first 5 columns of U and V\n",
    "\n",
    "So even although our projection was only approximate, by making it a bit bigger than we need, we can make up for the loss of accuracy (since we're only taking a subset later). "
   ]
  },
  {
   "cell_type": "markdown",
   "metadata": {
    "collapsed": true
   },
   "source": [
    "# Reference\n",
    "[Finding Structure with Randomness: Probabilistic Algorithms for Constructing Approximate Matrix Decompositions](https://arxiv.org/pdf/0909.4061.pdf)\n",
    "\n",
    "[Facebook's research blog about randomized SVD](https://research.fb.com/fast-randomized-svd/)"
   ]
  },
  {
   "cell_type": "code",
   "execution_count": null,
   "metadata": {
    "collapsed": true
   },
   "outputs": [],
   "source": []
  },
  {
   "cell_type": "markdown",
   "metadata": {
    "collapsed": true
   },
   "source": [
    "\n",
    "\n",
    "We used two simulations in this project. Firstly, we use Monte Claro Simulation to generate N=100000 sum of 50 chi-square random variables with degree of freedom with respect to 50 eigenvalues. Then we use this N sampes as the simulated distribution of Q. We compute the two-side p-value of q in this distribution. And the result p-value is 0.783431.\n",
    "\n",
    "To compare the computational time, we do another simulations. First, we generate n*p matrix as follows:\n",
    "we first generate 50 eigenvalues, each of which is normal distributed centered around each exact eigenvalue"
   ]
  }
 ],
 "metadata": {
  "kernelspec": {
   "display_name": "Python 3",
   "language": "python",
   "name": "python3"
  },
  "language_info": {
   "codemirror_mode": {
    "name": "ipython",
    "version": 3
   },
   "file_extension": ".py",
   "mimetype": "text/x-python",
   "name": "python",
   "nbconvert_exporter": "python",
   "pygments_lexer": "ipython3",
   "version": "3.6.1"
  }
 },
 "nbformat": 4,
 "nbformat_minor": 2
}
