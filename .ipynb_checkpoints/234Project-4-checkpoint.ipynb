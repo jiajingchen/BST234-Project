{
 "cells": [
  {
   "cell_type": "code",
   "execution_count": 1,
   "metadata": {
    "collapsed": true
   },
   "outputs": [],
   "source": [
    "import numpy as np\n",
    "import time\n",
    "from scipy import sparse\n",
    "import random\n",
    "import matplotlib.pyplot as plt\n"
   ]
  },
  {
   "cell_type": "code",
   "execution_count": 2,
   "metadata": {
    "collapsed": true
   },
   "outputs": [],
   "source": [
    "def prep_data():\n",
    "    x = np.loadtxt(\"simulated_genos\", delimiter=\" \", dtype=\"float32\")\n",
    "    y = np.array([[1] * 10000 + [0] * 10000], dtype=\"float32\")\n",
    "    y_c = y - 0.5\n",
    "    return x, y_c\n",
    "\n",
    "x, y_c = prep_data()"
   ]
  },
  {
   "cell_type": "code",
   "execution_count": 3,
   "metadata": {},
   "outputs": [
    {
     "name": "stdout",
     "output_type": "stream",
     "text": [
      "(20000, 50)\n",
      "953.0\n",
      "20000 50\n"
     ]
    }
   ],
   "source": [
    "X = x[:,:]\n",
    "print (X.shape)\n",
    "print (np.sum(x))\n",
    "n = X.shape[0]\n",
    "p = X.shape[1]\n",
    "print (n,p)"
   ]
  },
  {
   "cell_type": "code",
   "execution_count": 4,
   "metadata": {
    "collapsed": true
   },
   "outputs": [],
   "source": [
    "start_time = time.clock()"
   ]
  },
  {
   "cell_type": "code",
   "execution_count": 5,
   "metadata": {},
   "outputs": [
    {
     "name": "stderr",
     "output_type": "stream",
     "text": [
      "/anaconda/envs/py3/lib/python3.6/site-packages/scipy/sparse/linalg/dsolve/linsolve.py:253: SparseEfficiencyWarning: splu requires CSC matrix format\n",
      "  warn('splu requires CSC matrix format', SparseEfficiencyWarning)\n",
      "/anaconda/envs/py3/lib/python3.6/site-packages/scipy/sparse/linalg/dsolve/linsolve.py:171: SparseEfficiencyWarning: spsolve is more efficient when sparse b is in the CSC matrix format\n",
      "  'is in the CSC matrix format', SparseEfficiencyWarning)\n"
     ]
    }
   ],
   "source": [
    "#sparse\n",
    "from scipy import sparse\n",
    "import scipy.sparse.linalg as lg\n",
    "\n",
    "V = np.identity (n)\n",
    "V = sparse.csr_matrix(V)\n",
    "x1 = np.ones(shape=(n,1))\n",
    "X_tu = np.concatenate((x1,X),axis=1) \n",
    "\n",
    "start_time = time.clock()\n",
    "xtvx_sparse = sparse.csr_matrix(X_tu.T@V@X_tu)\n",
    "\n",
    "# compute P0\n",
    "inv_sparse = lg.inv(xtvx_sparse)\n",
    "first_sparse = sparse.csr_matrix(V@X_tu)\n",
    "\n",
    "\n",
    "\n",
    "first_T_sparse = sparse.csr_matrix.transpose(first_sparse)\n",
    "P_0_V_sparse =  first_sparse@inv_sparse@first_T_sparse\n",
    "P_0 = V- P_0_V_sparse\n",
    "\n",
    "# egin\n"
   ]
  },
  {
   "cell_type": "code",
   "execution_count": 6,
   "metadata": {},
   "outputs": [
    {
     "name": "stdout",
     "output_type": "stream",
     "text": [
      "(array([[  1.00139824e-08,  -5.49397173e-05,   5.79588187e-08,\n",
      "         -3.41372340e-05,  -6.43274641e-05,  -8.67676183e-18],\n",
      "       [  1.00139824e-08,  -5.49397173e-05,   5.79588187e-08,\n",
      "         -3.41372340e-05,  -6.43274641e-05,  -8.67676183e-18],\n",
      "       [  1.00139824e-08,  -5.49397173e-05,   5.79588187e-08,\n",
      "         -3.41372340e-05,  -6.43274641e-05,  -8.67676183e-18],\n",
      "       ..., \n",
      "       [  1.00139824e-08,  -5.49397173e-05,   5.79588187e-08,\n",
      "         -3.41372340e-05,  -6.43274641e-05,  -8.67676183e-18],\n",
      "       [  1.00139824e-08,  -5.49397173e-05,   5.79588187e-08,\n",
      "         -3.41372340e-05,  -6.43274641e-05,  -8.67676183e-18],\n",
      "       [  1.00139824e-08,  -5.49397173e-05,   5.79588187e-08,\n",
      "         -3.41372340e-05,  -6.43274641e-05,  -8.67676183e-18]]), array([  2.39149375e-15,   2.72886217e-15,   3.51083467e-15,\n",
      "         3.55460787e-15,   5.27099757e-15,   6.07790071e-15]), array([[  9.63033767e-07,   1.59931405e-09,  -2.29320163e-07,\n",
      "         -2.40213786e-06,  -5.18395464e-06,  -3.85691776e-07,\n",
      "         -1.33007360e-06,   1.24586768e-06,   3.85584504e-07,\n",
      "          9.20011646e-07,  -1.92569093e-08,  -1.29512635e-06,\n",
      "          2.09939539e-06,  -1.26858665e-06,   1.04816828e-05,\n",
      "         -1.92637775e-06,   1.48298060e-06,  -1.93092781e-07,\n",
      "          4.35191522e-08,  -1.65539610e-06,  -3.14500421e-08,\n",
      "         -6.99539009e-07,  -9.47352922e-06,   2.09327641e-05,\n",
      "          1.43161412e-06,  -6.05578261e-07,   2.74827308e-08,\n",
      "         -2.44477155e-06,  -6.37478523e-07,   2.79287197e-06,\n",
      "          9.48934924e-07,  -1.75292714e-06,   9.58982103e-17,\n",
      "         -9.79507320e-06,   1.10031443e-06,   5.60713715e-07,\n",
      "          2.94989860e-04,   2.59985769e-04,   1.28657465e-06,\n",
      "         -3.52569117e-09,  -9.99999922e-01,   7.40742245e-07,\n",
      "         -4.90783312e-07,  -1.63692574e-08,  -2.38069259e-06,\n",
      "          1.26523978e-06,  -6.73977029e-06,  -1.34474435e-06,\n",
      "         -1.03733882e-06,   1.50107787e-05],\n",
      "       [ -9.88666450e-09,  -2.11744896e-12,   1.15207440e-04,\n",
      "         -3.89475410e-04,  -5.00999340e-04,  -1.72909898e-04,\n",
      "         -3.90588145e-05,  -4.93871300e-04,  -9.99002110e-01,\n",
      "          2.10312023e-05,   2.53609613e-11,  -3.90588606e-05,\n",
      "          3.28294855e-04,  -1.85971602e-04,   6.37385982e-04,\n",
      "         -4.46336984e-08,  -1.96750056e-09,  -8.37536350e-09,\n",
      "         -5.76181921e-11,  -1.46483444e-07,   9.61953661e-04,\n",
      "          1.03917188e-03,  -3.95156969e-04,  -4.44834331e-02,\n",
      "         -1.86293311e-09,   1.03917182e-03,  -4.01901863e-04,\n",
      "         -7.79633856e-04,   6.15670359e-07,  -4.92951709e-05,\n",
      "         -3.90618227e-05,  -1.46357122e-07,   2.55788877e-16,\n",
      "         -2.33448024e-04,   6.94770633e-06,  -3.84653436e-04,\n",
      "          3.00694559e-03,  -4.35077733e-05,  -1.93690035e-05,\n",
      "         -1.17254317e-03,  -4.25627738e-07,  -4.70597964e-06,\n",
      "          1.35753656e-04,   2.15580169e-11,   3.28300037e-04,\n",
      "         -1.06203138e-07,  -7.76863881e-08,   1.78409970e-09,\n",
      "         -7.27175605e-09,  -6.28481167e-05],\n",
      "       [ -6.11969159e-10,  -4.47568082e-16,  -3.51849213e-08,\n",
      "          3.02219519e-07,   6.81548293e-07,   8.00958597e-08,\n",
      "          3.46548979e-08,   4.64483919e-07,   1.17157392e-03,\n",
      "         -2.00088282e-07,  -2.90618127e-15,   3.46548888e-08,\n",
      "         -2.51034597e-07,   1.73644230e-07,  -4.31072757e-04,\n",
      "          9.16374325e-11,  -3.99369527e-13,  -6.11657505e-10,\n",
      "         -1.21797142e-14,   5.70652897e-11,  -2.08390520e-05,\n",
      "         -3.09287391e-07,   3.43233395e-07,   4.12938954e-05,\n",
      "         -3.67319135e-13,  -3.09287405e-07,   3.03502094e-07,\n",
      "          3.82176907e-07,  -2.02449899e-10,   2.44000086e-08,\n",
      "          3.46543000e-08,   5.70903793e-11,   1.86973934e-15,\n",
      "         -1.02045949e-05,  -2.65098519e-09,   5.61427592e-07,\n",
      "         -1.91474891e-06,   1.01586928e-07,   1.72398395e-08,\n",
      "         -9.99999220e-01,  -1.20429265e-10,   8.19799437e-09,\n",
      "         -1.93021243e-07,  -2.46686164e-15,  -2.51033611e-07,\n",
      "          4.77267955e-11,  -4.76827574e-09,   3.62141552e-13,\n",
      "         -6.11429911e-10,   8.38200562e-08],\n",
      "       [  4.19202282e-08,   1.84486267e-16,  -2.38079023e-04,\n",
      "         -1.39915496e-04,  -9.82449520e-05,  -1.36684536e-04,\n",
      "         -2.43001407e-08,  -4.00996051e-04,  -9.50048163e-04,\n",
      "         -4.31027583e-04,   1.49001446e-14,  -2.43001378e-08,\n",
      "          1.75129810e-07,  -1.81628945e-04,   8.47461947e-05,\n",
      "         -7.16170800e-09,   1.26442081e-13,   4.19201090e-08,\n",
      "          5.01844244e-15,  -1.29225625e-06,  -9.99990329e-01,\n",
      "          5.21411517e-04,  -5.49288112e-04,  -2.89207881e-04,\n",
      "          1.21931079e-13,   5.21411517e-04,  -1.20187092e-04,\n",
      "         -2.12238041e-04,   4.59860112e-06,  -4.17385204e-05,\n",
      "         -2.42999634e-08,  -1.29225626e-06,   6.66955164e-14,\n",
      "          1.73486481e-03,   1.09294534e-05,   3.72464527e-03,\n",
      "         -1.28083736e-05,   1.06276330e-06,  -1.20903081e-08,\n",
      "          1.96609010e-05,   9.98321046e-09,  -8.67988802e-06,\n",
      "         -1.97253340e-04,   1.26363392e-14,   1.75129385e-07,\n",
      "         -3.81258201e-08,   3.24397433e-07,  -1.14596663e-13,\n",
      "          4.19200220e-08,  -1.89103437e-04],\n",
      "       [ -2.84437596e-09,  -2.89752669e-18,  -1.98535644e-04,\n",
      "         -1.43107916e-04,   9.99985812e-01,  -1.05259729e-06,\n",
      "         -4.20654726e-09,  -1.59136626e-04,  -4.90442406e-04,\n",
      "          1.01873081e-04,  -7.93095203e-16,  -4.20654714e-09,\n",
      "          2.73079968e-08,  -2.49061043e-04,  -1.09809327e-04,\n",
      "          1.50890146e-06,   2.38211810e-15,  -2.84437633e-09,\n",
      "         -7.92219900e-17,   2.24736594e-05,  -9.90733708e-05,\n",
      "          3.22119743e-06,  -4.50473874e-04,  -7.03952055e-05,\n",
      "         -1.77288452e-15,   3.22119743e-06,  -2.84106879e-04,\n",
      "          3.89919910e-03,  -7.24708495e-05,  -3.37649640e-07,\n",
      "         -4.20654374e-09,   2.24736594e-05,  -1.80049795e-13,\n",
      "         -2.76295862e-04,  -1.25635468e-05,  -1.16452267e-04,\n",
      "          3.50523269e-03,  -1.42802669e-04,  -2.09859982e-09,\n",
      "          1.50547055e-07,  -4.19510784e-06,  -1.28659392e-05,\n",
      "         -1.09817935e-04,  -6.71608221e-16,   2.73080158e-08,\n",
      "         -1.85009317e-08,  -1.89757187e-08,  -2.13790052e-15,\n",
      "         -2.84437661e-09,  -2.17096020e-04],\n",
      "       [  6.11093050e-16,   1.26904866e-18,  -1.54927337e-15,\n",
      "         -1.25837429e-15,   1.79996017e-13,  -4.69925080e-16,\n",
      "          1.30038458e-15,  -5.42645432e-16,   1.01237644e-17,\n",
      "         -2.93383013e-16,   9.48793444e-16,   1.28529003e-15,\n",
      "         -1.17004698e-15,  -1.34165403e-15,  -1.49513072e-15,\n",
      "          6.97696040e-16,  -7.69983828e-16,  -1.17564884e-16,\n",
      "          3.34134479e-17,   7.67867998e-16,   6.68110027e-14,\n",
      "          5.18315474e-16,  -6.49504741e-16,   5.45681797e-16,\n",
      "         -1.32769723e-15,   3.66118254e-16,   5.32964701e-17,\n",
      "          2.07297471e-15,  -8.76219354e-16,   1.36061832e-15,\n",
      "         -8.88598212e-16,   8.05568159e-16,   1.00000000e+00,\n",
      "         -1.60715451e-16,  -1.31232418e-15,   1.03343138e-16,\n",
      "          4.71767124e-16,  -3.51464076e-16,   1.46912876e-15,\n",
      "          1.80616976e-15,   9.97570407e-17,   1.23789753e-15,\n",
      "          1.00970631e-15,   8.36037082e-16,   1.20152026e-15,\n",
      "          1.37157732e-15,  -7.75212207e-16,   7.90552769e-16,\n",
      "         -6.38458717e-16,  -4.12188053e-16]]))\n"
     ]
    }
   ],
   "source": [
    "X_sparse = sparse.csr_matrix(X)\n",
    "X_T_sparse = sparse.csr_matrix.transpose(X_sparse)\n",
    "K = X@X_T_sparse\n",
    "D = P_0@X_sparse\n",
    "\n",
    "\n",
    "\n",
    "#A = P_0@K@P_0\n",
    "#print (type(A))\n"
   ]
  },
  {
   "cell_type": "code",
   "execution_count": 9,
   "metadata": {},
   "outputs": [
    {
     "name": "stdout",
     "output_type": "stream",
     "text": [
      "[ 5.7486968   6.08276081  6.08821678  6.09116888  6.17114973  6.32455492]\n"
     ]
    }
   ],
   "source": [
    "\n",
    "SVD_result = lg.svds(X_sparse)\n",
    "print (SVD_result[1])\n"
   ]
  },
  {
   "cell_type": "code",
   "execution_count": 8,
   "metadata": {},
   "outputs": [
    {
     "name": "stdout",
     "output_type": "stream",
     "text": [
      "(20000, 50)\n"
     ]
    }
   ],
   "source": [
    "print (D.shape)\n"
   ]
  },
  {
   "cell_type": "code",
   "execution_count": 17,
   "metadata": {},
   "outputs": [
    {
     "name": "stdout",
     "output_type": "stream",
     "text": [
      "[ 40.00003815+0.j  38.08310699+0.j  37.10231781+0.j  37.06636810+0.j\n",
      "  36.99999619+0.j  33.04757309+0.j]\n"
     ]
    }
   ],
   "source": [
    "import scipy.sparse.linalg as lg\n",
    "X_T_sparse = sparse.csr_matrix.transpose(X_sparse)\n",
    "XX = X_sparse@X_T_sparse\n",
    "e = lg.eigs(XX)\n",
    "print (e[0])\n"
   ]
  },
  {
   "cell_type": "code",
   "execution_count": 16,
   "metadata": {},
   "outputs": [
    {
     "data": {
      "text/plain": [
       "[33.047516, 36.999981, 37.066383, 37.102337, 38.083088, 39.999996]"
      ]
     },
     "execution_count": 16,
     "metadata": {},
     "output_type": "execute_result"
    }
   ],
   "source": [
    "sorted((SVD_result[1])**2)"
   ]
  },
  {
   "cell_type": "code",
   "execution_count": null,
   "metadata": {},
   "outputs": [],
   "source": [
    "\n",
    "\n",
    "np.linalg.eig(X@X.T)"
   ]
  },
  {
   "cell_type": "code",
   "execution_count": null,
   "metadata": {
    "collapsed": true
   },
   "outputs": [],
   "source": []
  },
  {
   "cell_type": "code",
   "execution_count": null,
   "metadata": {
    "collapsed": true
   },
   "outputs": [],
   "source": []
  },
  {
   "cell_type": "code",
   "execution_count": null,
   "metadata": {
    "collapsed": true
   },
   "outputs": [],
   "source": []
  },
  {
   "cell_type": "code",
   "execution_count": null,
   "metadata": {
    "collapsed": true
   },
   "outputs": [],
   "source": []
  },
  {
   "cell_type": "code",
   "execution_count": null,
   "metadata": {
    "collapsed": true
   },
   "outputs": [],
   "source": []
  },
  {
   "cell_type": "code",
   "execution_count": null,
   "metadata": {
    "collapsed": true
   },
   "outputs": [],
   "source": []
  },
  {
   "cell_type": "code",
   "execution_count": null,
   "metadata": {
    "collapsed": true
   },
   "outputs": [],
   "source": []
  }
 ],
 "metadata": {
  "kernelspec": {
   "display_name": "Python 3",
   "language": "python",
   "name": "python3"
  },
  "language_info": {
   "codemirror_mode": {
    "name": "ipython",
    "version": 3
   },
   "file_extension": ".py",
   "mimetype": "text/x-python",
   "name": "python",
   "nbconvert_exporter": "python",
   "pygments_lexer": "ipython3",
   "version": "3.6.1"
  }
 },
 "nbformat": 4,
 "nbformat_minor": 2
}
