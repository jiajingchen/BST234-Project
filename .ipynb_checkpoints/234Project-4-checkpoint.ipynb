{
 "cells": [
  {
   "cell_type": "code",
   "execution_count": 1,
   "metadata": {
    "collapsed": true
   },
   "outputs": [],
   "source": [
    "import numpy as np\n",
    "import time\n",
    "from scipy import sparse\n",
    "import random\n",
    "import matplotlib.pyplot as plt\n"
   ]
  },
  {
   "cell_type": "code",
   "execution_count": 2,
   "metadata": {
    "collapsed": true
   },
   "outputs": [],
   "source": [
    "def prep_data():\n",
    "    x = np.loadtxt(\"simulated_genos\", delimiter=\" \", dtype=\"float32\")\n",
    "    y = np.array([[1] * 10000 + [0] * 10000], dtype=\"float32\")\n",
    "    y_c = y - 0.5\n",
    "    return x, y_c\n",
    "\n",
    "x, y_c = prep_data()"
   ]
  },
  {
   "cell_type": "code",
   "execution_count": 3,
   "metadata": {},
   "outputs": [
    {
     "name": "stdout",
     "output_type": "stream",
     "text": [
      "(20000, 50)\n",
      "953.0\n",
      "20000 50\n"
     ]
    }
   ],
   "source": [
    "X = x[:,:]\n",
    "print (X.shape)\n",
    "print (np.sum(x))\n",
    "n = X.shape[0]\n",
    "p = X.shape[1]\n",
    "print (n,p)"
   ]
  },
  {
   "cell_type": "code",
   "execution_count": 4,
   "metadata": {
    "collapsed": true
   },
   "outputs": [],
   "source": [
    "start_time = time.clock()"
   ]
  },
  {
   "cell_type": "code",
   "execution_count": 5,
   "metadata": {},
   "outputs": [
    {
     "name": "stderr",
     "output_type": "stream",
     "text": [
      "/anaconda/envs/py3/lib/python3.6/site-packages/scipy/sparse/linalg/dsolve/linsolve.py:253: SparseEfficiencyWarning: splu requires CSC matrix format\n",
      "  warn('splu requires CSC matrix format', SparseEfficiencyWarning)\n",
      "/anaconda/envs/py3/lib/python3.6/site-packages/scipy/sparse/linalg/dsolve/linsolve.py:171: SparseEfficiencyWarning: spsolve is more efficient when sparse b is in the CSC matrix format\n",
      "  'is in the CSC matrix format', SparseEfficiencyWarning)\n"
     ]
    }
   ],
   "source": [
    "#sparse\n",
    "from scipy import sparse\n",
    "import scipy.sparse.linalg as lg\n",
    "\n",
    "V = np.identity (n)\n",
    "V = sparse.csr_matrix(V)\n",
    "x1 = np.ones(shape=(n,1))\n",
    "X_tu = np.concatenate((x1,X),axis=1) \n",
    "\n",
    "start_time = time.clock()\n",
    "xtvx_sparse = sparse.csr_matrix(X_tu.T@V@X_tu)\n",
    "\n",
    "# compute P0\n",
    "inv_sparse = lg.inv(xtvx_sparse)\n",
    "first_sparse = sparse.csr_matrix(V@X_tu)\n",
    "\n",
    "\n",
    "\n",
    "first_T_sparse = sparse.csr_matrix.transpose(first_sparse)\n",
    "P_0_V_sparse =  first_sparse@inv_sparse@first_T_sparse\n",
    "P_0 = V- P_0_V_sparse\n",
    "\n",
    "# egin\n"
   ]
  },
  {
   "cell_type": "code",
   "execution_count": 5,
   "metadata": {},
   "outputs": [],
   "source": [
    "X_sparse = sparse.csr_matrix(X)\n",
    "X_T_sparse = sparse.csr_matrix.transpose(X_sparse)\n",
    "\n",
    "#K = X@X_T_sparse\n",
    "#D = P_0@X_sparse\n",
    "\n",
    "\n",
    "\n",
    "#A = P_0@K@P_0\n",
    "#print (type(A))\n"
   ]
  },
  {
   "cell_type": "code",
   "execution_count": 9,
   "metadata": {},
   "outputs": [
    {
     "name": "stdout",
     "output_type": "stream",
     "text": [
      "[ 5.7486968   6.08276081  6.08821678  6.09116888  6.17114973  6.32455492]\n"
     ]
    }
   ],
   "source": [
    "\n",
    "SVD_result = lg.svds(X_sparse)\n",
    "print (SVD_result[1])\n"
   ]
  },
  {
   "cell_type": "code",
   "execution_count": 8,
   "metadata": {},
   "outputs": [
    {
     "name": "stdout",
     "output_type": "stream",
     "text": [
      "(20000, 50)\n"
     ]
    }
   ],
   "source": [
    "print (D.shape)\n"
   ]
  },
  {
   "cell_type": "code",
   "execution_count": 17,
   "metadata": {},
   "outputs": [
    {
     "name": "stdout",
     "output_type": "stream",
     "text": [
      "[ 40.00003815+0.j  38.08310699+0.j  37.10231781+0.j  37.06636810+0.j\n",
      "  36.99999619+0.j  33.04757309+0.j]\n"
     ]
    }
   ],
   "source": [
    "import scipy.sparse.linalg as lg\n",
    "X_T_sparse = sparse.csr_matrix.transpose(X_sparse)\n",
    "XX = X_sparse@X_T_sparse\n",
    "e = lg.eigs(XX)\n",
    "print (e[0])\n"
   ]
  },
  {
   "cell_type": "code",
   "execution_count": 16,
   "metadata": {},
   "outputs": [
    {
     "data": {
      "text/plain": [
       "[33.047516, 36.999981, 37.066383, 37.102337, 38.083088, 39.999996]"
      ]
     },
     "execution_count": 16,
     "metadata": {},
     "output_type": "execute_result"
    }
   ],
   "source": [
    "sorted((SVD_result[1])**2)"
   ]
  },
  {
   "cell_type": "code",
   "execution_count": null,
   "metadata": {
    "collapsed": true
   },
   "outputs": [],
   "source": [
    "\n",
    "\n",
    "np.linalg.eig(X@X.T)"
   ]
  },
  {
   "cell_type": "code",
   "execution_count": 6,
   "metadata": {},
   "outputs": [
    {
     "name": "stdout",
     "output_type": "stream",
     "text": [
      "[ 33.04751587  37.00000763  37.06637955  37.10232925  38.0831337   40.        ]\n"
     ]
    }
   ],
   "source": [
    "import scipy.sparse.linalg as lg\n",
    "X_T_sparse = sparse.csr_matrix.transpose(X_sparse)\n",
    "XX = X_sparse@X_T_sparse\n",
    "e = lg.eigsh(XX)\n",
    "print (e[0])"
   ]
  },
  {
   "cell_type": "code",
   "execution_count": null,
   "metadata": {},
   "outputs": [
    {
     "name": "stdout",
     "output_type": "stream",
     "text": [
      "50\n"
     ]
    }
   ],
   "source": [
    "print (np.linalg.matrix_rank(X))\n"
   ]
  },
  {
   "cell_type": "code",
   "execution_count": null,
   "metadata": {
    "collapsed": true
   },
   "outputs": [],
   "source": []
  },
  {
   "cell_type": "code",
   "execution_count": null,
   "metadata": {
    "collapsed": true
   },
   "outputs": [],
   "source": [
    "print (np.linalg.matrix_rank(X@X.T))"
   ]
  },
  {
   "cell_type": "code",
   "execution_count": null,
   "metadata": {
    "collapsed": true
   },
   "outputs": [],
   "source": []
  },
  {
   "cell_type": "code",
   "execution_count": null,
   "metadata": {
    "collapsed": true
   },
   "outputs": [],
   "source": []
  },
  {
   "cell_type": "code",
   "execution_count": null,
   "metadata": {
    "collapsed": true
   },
   "outputs": [],
   "source": []
  }
 ],
 "metadata": {
  "kernelspec": {
   "display_name": "Python 3",
   "language": "python",
   "name": "python3"
  },
  "language_info": {
   "codemirror_mode": {
    "name": "ipython",
    "version": 3
   },
   "file_extension": ".py",
   "mimetype": "text/x-python",
   "name": "python",
   "nbconvert_exporter": "python",
   "pygments_lexer": "ipython3",
   "version": "3.6.1"
  }
 },
 "nbformat": 4,
 "nbformat_minor": 2
}
